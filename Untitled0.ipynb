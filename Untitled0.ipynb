{
  "nbformat": 4,
  "nbformat_minor": 0,
  "metadata": {
    "colab": {
      "provenance": [],
      "authorship_tag": "ABX9TyN2ok6mQZdk0IDoCA9/QteV",
      "include_colab_link": true
    },
    "kernelspec": {
      "name": "python3",
      "display_name": "Python 3"
    },
    "language_info": {
      "name": "python"
    }
  },
  "cells": [
    {
      "cell_type": "markdown",
      "metadata": {
        "id": "view-in-github",
        "colab_type": "text"
      },
      "source": [
        "<a href=\"https://colab.research.google.com/github/juneligea/digitalnose/blob/main/Untitled0.ipynb\" target=\"_parent\"><img src=\"https://colab.research.google.com/assets/colab-badge.svg\" alt=\"Open In Colab\"/></a>"
      ]
    },
    {
      "cell_type": "code",
      "execution_count": null,
      "metadata": {
        "id": "rAWlH6Lpala8"
      },
      "outputs": [],
      "source": []
    },
    {
      "cell_type": "markdown",
      "source": [
        "# Toast data analysis and curation\n",
        "\n",
        "[![Open In Colab <](https://colab.research.google.com/assets/colab-badge.svg)](https://colab.research.google.com/github/ShawnHymel/perfect-toast-machine/blob/master/ptm_dataset_curation.ipynb)\n",
        "\n",
        "Downloads data from GitHub repository into */content/dataset*, analyzes it, standardizes it, creates an Edge Impulse ready set of CSV files, and trains a NN to test viability."
      ],
      "metadata": {
        "id": "dBlodqe5-BrS"
      }
    },
    {
      "cell_type": "markdown",
      "source": [
        "## Step 1: Load the data"
      ],
      "metadata": {
        "id": "lGQWIo3z-IMm"
      }
    },
    {
      "cell_type": "code",
      "execution_count": 1,
      "metadata": {
        "id": "sbVygiCh9m_6"
      },
      "outputs": [],
      "source": [
        "import csv\n",
        "import os\n",
        "import shutil\n",
        "import random\n",
        "import uuid\n",
        "\n",
        "import numpy as np\n",
        "import matplotlib.pyplot as plt"
      ]
    },
    {
      "cell_type": "code",
      "source": [
        "### Settings\n",
        "HOME_PATH = \"/content\"              # Location of the working directory\n",
        "DATASET_PATH = \"/content/dataset\"   # Upload your .csv samples to this directory\n",
        "OUT_PATH = \"/content/out\"           # Where output files go (will be deleted and recreated)\n",
        "TRAIN_DIR = \"training\"              # Where to store training output files\n",
        "TEST_DIR = \"testing\"                # Where to store testing output files\n",
        "OUT_ZIP = \"/content/out.zip\"        # Where to store the zipped output files\n",
        "X_WINDOW_LEN = 20                   # Number of samples in the window\n",
        "X_WINDOW_STRIDE = 2                 # Number of samples to skip for the next window\n",
        "Y_SCALE = 1000                      # Divide y values by this amount (convert ms to sec)\n",
        "\n",
        "# Set aside 20% for test\n",
        "TEST_RATIO = 0.2\n",
        "\n",
        "# Hardcoded column index\n",
        "TIMESTAMP_IDX = 0                   # Column number of the timestamp data\n",
        "PRESSURE_IDX = 3                    # Column number of the pressure data\n",
        "STATE_IDX = 11                      # Column number of the state data\n",
        "BURNT_STATE_NUM = 3                 # The state that we care about\n",
        "\n",
        "# Seed for pseudorandomness \n",
        "SEED = 42"
      ],
      "metadata": {
        "id": "vnBNe20v-U-G"
      },
      "execution_count": 2,
      "outputs": []
    },
    {
      "cell_type": "code",
      "source": [
        "### Download data\n",
        "\n",
        "url = \"https://github.com/ShawnHymel/perfect-toast-machine/raw/main/datasets/burnt-toast-dataset.zip\"\n",
        "filename = \"burnt-toast-dataset.zip\"\n",
        "filepath = os.path.join(HOME_PATH, filename)\n",
        "\n",
        "# Start with fresh dataset directory\n",
        "if os.path.exists(DATASET_PATH):\n",
        "  shutil.rmtree(DATASET_PATH)\n",
        "os.makedirs(DATASET_PATH)\n",
        "\n",
        "# Download zip file\n",
        "!wget {url}\n",
        "\n",
        "# Unzip\n",
        "!unzip -q {filepath} -d {DATASET_PATH}"
      ],
      "metadata": {
        "id": "cARlb2i7GF2C",
        "colab": {
          "base_uri": "https://localhost:8080/"
        },
        "outputId": "cec0e3ee-8f53-4cb2-9902-b6f3f3e278ec"
      },
      "execution_count": 3,
      "outputs": [
        {
          "output_type": "stream",
          "name": "stdout",
          "text": [
            "--2022-11-25 08:53:17--  https://github.com/ShawnHymel/perfect-toast-machine/raw/main/datasets/burnt-toast-dataset.zip\n",
            "Resolving github.com (github.com)... 140.82.113.3\n",
            "Connecting to github.com (github.com)|140.82.113.3|:443... connected.\n",
            "HTTP request sent, awaiting response... 302 Found\n",
            "Location: https://raw.githubusercontent.com/ShawnHymel/perfect-toast-machine/main/datasets/burnt-toast-dataset.zip [following]\n",
            "--2022-11-25 08:53:18--  https://raw.githubusercontent.com/ShawnHymel/perfect-toast-machine/main/datasets/burnt-toast-dataset.zip\n",
            "Resolving raw.githubusercontent.com (raw.githubusercontent.com)... 185.199.111.133, 185.199.108.133, 185.199.110.133, ...\n",
            "Connecting to raw.githubusercontent.com (raw.githubusercontent.com)|185.199.111.133|:443... connected.\n",
            "HTTP request sent, awaiting response... 200 OK\n",
            "Length: 266888 (261K) [application/zip]\n",
            "Saving to: ‘burnt-toast-dataset.zip’\n",
            "\n",
            "burnt-toast-dataset 100%[===================>] 260.63K  --.-KB/s    in 0.005s  \n",
            "\n",
            "2022-11-25 08:53:18 (47.1 MB/s) - ‘burnt-toast-dataset.zip’ saved [266888/266888]\n",
            "\n"
          ]
        }
      ]
    },
    {
      "cell_type": "code",
      "source": [
        "### Flatten the dataset directory\n",
        "for dir in os.listdir(DATASET_PATH):\n",
        "  dirpath = os.path.join(DATASET_PATH, dir)\n",
        "  if os.path.isdir(dirpath):\n",
        "    for filename in os.listdir(dirpath):\n",
        "      shutil.move(os.path.join(dirpath, filename), os.path.join(DATASET_PATH, filename))\n",
        "    shutil.rmtree(dirpath)"
      ],
      "metadata": {
        "id": "AS9hg7V7KRYW"
      },
      "execution_count": 4,
      "outputs": []
    },
    {
      "cell_type": "code",
      "source": [
        "### Read in .csv files\n",
        "\n",
        "# Store header, raw data, and number of lines found in each .csv file\n",
        "header = None\n",
        "raw_data = []\n",
        "filenames = []\n",
        "\n",
        "# Read each CSV file\n",
        "for filename in os.listdir(DATASET_PATH):\n",
        "\n",
        "  sample_data = []\n",
        "\n",
        "  # Check if the path is a file\n",
        "  filepath = os.path.join(DATASET_PATH, filename)\n",
        "  if not os.path.isfile(filepath):\n",
        "    continue\n",
        "\n",
        "  # Read the .csv file\n",
        "  with open(filepath) as f:\n",
        "    csv_reader = csv.reader(f, delimiter=',')\n",
        "\n",
        "    # Read each line\n",
        "    valid_line_counter = 0\n",
        "    for line_count, line in enumerate(csv_reader):\n",
        "\n",
        "      # Check header\n",
        "      if line_count == 0:\n",
        "\n",
        "        # Record first header as our official header for all the data\n",
        "        if header == None:\n",
        "          header = line\n",
        "\n",
        "        # Check to make sure subsequent headers match the original header\n",
        "        if header == line:\n",
        "          filenames.append(filename)\n",
        "        else:\n",
        "          print(\"Error: Headers do not match. Skipping\", filename)\n",
        "          break\n",
        "\n",
        "      # Construct raw data array, make sure number of elements match number of header labels\n",
        "      else:\n",
        "        if len(line) == len(header):\n",
        "          sample_data.append(line)\n",
        "        else:\n",
        "          print(\"Error: Data length does not match header length. Skipping line.\")\n",
        "          continue\n",
        "\n",
        "  # Append Numpy array to data list\n",
        "  raw_data.append(np.array(sample_data).astype('float'))\n",
        "\n",
        "# Print out our results\n",
        "print(\"Number of samples:\", len(raw_data))\n",
        "print(\"Shape of sample 0:\", raw_data[0].shape)\n",
        "print(\"Number of filenames:\", len(filenames))"
      ],
      "metadata": {
        "colab": {
          "base_uri": "https://localhost:8080/"
        },
        "id": "U3oZkBSJ-iMB",
        "outputId": "c102dca6-436d-40fe-8ead-002e76c74f1f"
      },
      "execution_count": 5,
      "outputs": [
        {
          "output_type": "stream",
          "name": "stdout",
          "text": [
            "Number of samples: 32\n",
            "Shape of sample 0: (412, 12)\n",
            "Number of filenames: 32\n"
          ]
        }
      ]
    },
    {
      "cell_type": "code",
      "source": [
        "### Determine sampling rate\n",
        "\n",
        "timestamp_idx = 0\n",
        "sample_rate = raw_data[0][1,timestamp_idx] - raw_data[0][0, timestamp_idx]\n",
        "print(\"Sample rate (ms):\", sample_rate)"
      ],
      "metadata": {
        "colab": {
          "base_uri": "https://localhost:8080/"
        },
        "id": "Rm-8nZAG9CsU",
        "outputId": "f32c0eba-eb2d-40ab-ee7e-d387dbf2862e"
      },
      "execution_count": 6,
      "outputs": [
        {
          "output_type": "stream",
          "name": "stdout",
          "text": [
            "Sample rate (ms): 500.0\n"
          ]
        }
      ]
    },
    {
      "cell_type": "markdown",
      "source": [
        "## Step 2: Analyze the data"
      ],
      "metadata": {
        "id": "jFA3kyPeL9P4"
      }
    },
    {
      "cell_type": "code",
      "source": [
        "### Create one long Numpy array with all the sample data\n",
        "raw_data_np = []\n",
        "for sample in raw_data:\n",
        "  for i in range(sample.shape[0]):\n",
        "    raw_data_np.append(sample[i,:])\n",
        "raw_data_np = np.array(raw_data_np).astype(float)\n",
        "print(raw_data_np.shape)"
      ],
      "metadata": {
        "colab": {
          "base_uri": "https://localhost:8080/"
        },
        "id": "yEMJRL7FKjJa",
        "outputId": "1e0b26ef-0f2d-4738-e31f-af6ab1b212f7"
      },
      "execution_count": 7,
      "outputs": [
        {
          "output_type": "stream",
          "name": "stdout",
          "text": [
            "(13741, 12)\n"
          ]
        }
      ]
    },
    {
      "cell_type": "code",
      "source": [
        "### Examine the histograms of all the data\n",
        "\n",
        "# Create subplots\n",
        "num_hists = len(header)\n",
        "fig, axs = plt.subplots(1, num_hists, figsize=(20,3))\n",
        "\n",
        "# Create histogram for each category of data\n",
        "for i in range(num_hists):\n",
        "  _ = axs[i].hist(raw_data_np[:,i], bins=20, histtype='bar')\n",
        "  axs[i].title.set_text(header[i])"
      ],
      "metadata": {
        "colab": {
          "base_uri": "https://localhost:8080/",
          "height": 227
        },
        "id": "NEmBQJit-lk1",
        "outputId": "d83a1dd2-ee5c-43e7-ceff-6adfb877c220"
      },
      "execution_count": 8,
      "outputs": [
        {
          "output_type": "display_data",
          "data": {
            "text/plain": [
              "<Figure size 1440x216 with 12 Axes>"
            ],
            "image/png": "[encoded data removed]"
          },
          "metadata": {
            "needs_background": "light"
          }
        }
      ]
    },
    {
      "cell_type": "code",
      "source": [
        "### Choose 1 sample and plot the gas data over time\n",
        "\n",
        "sample_idx = 0\n",
        "num_sensors = len(header) - 2\n",
        "\n",
        "# Calculate number of readings in each state\n",
        "num_background = np.sum(raw_data[sample_idx][:,-1] == 1)\n",
        "num_toasting = np.sum(raw_data[sample_idx][:,-1] == 2)\n",
        "num_burnt = np.sum(raw_data[sample_idx][:,-1] == 3)\n",
        "\n",
        "# Get x-axis (time data) for each state\n",
        "t_background = raw_data[sample_idx][:num_background, 0]\n",
        "t_toasting = raw_data[sample_idx][num_background:(num_background + num_toasting), 0]\n",
        "t_burnt = raw_data[sample_idx][(num_background + num_toasting):, 0]\n",
        "t_series = [t_background, t_toasting, t_burnt]\n",
        "\n",
        "# Plot data from each sensor\n",
        "for sensor_idx in range(1, num_sensors + 1):\n",
        "\n",
        "  # Get the label\n",
        "  label = header[sensor_idx]\n",
        "\n",
        "  # Get the y-axis (sensor reading)\n",
        "  y_background = raw_data[sample_idx][:num_background, sensor_idx]\n",
        "  y_toasting = raw_data[sample_idx][num_background:(num_background + num_toasting), sensor_idx]\n",
        "  y_burnt = raw_data[sample_idx][(num_background + num_toasting):, sensor_idx]\n",
        "  y_series = [y_background, y_toasting, y_burnt]\n",
        "\n",
        "  # Plot each sensor\n",
        "  plt.figure(figsize=(12,1))\n",
        "  plt.plot(t_background, y_background, color='blue', marker='.')\n",
        "  plt.plot(t_toasting, y_toasting, color='green', marker='.')\n",
        "  plt.plot(t_burnt, y_burnt, color='red', marker='.')\n",
        "  plt.title(label)"
      ],
      "metadata": {
        "colab": {
          "base_uri": "https://localhost:8080/",
          "height": 1000
        },
        "id": "Z21Yvdcd_SDq",
        "outputId": "b5b85361-6394-4f2c-cc7a-30c6d458e130"
      },
      "execution_count": 9,
      "outputs": [
        {
          "output_type": "display_data",
          "data": {
            "text/plain": [
              "<Figure size 864x72 with 1 Axes>"
            ],
            "image/png": "[encoded data removed]"
          },
          "metadata": {
            "needs_background": "light"
          }
        },
        {
          "output_type": "display_data",
          "data": {
            "text/plain": [
              "<Figure size 864x72 with 1 Axes>"
            ],
            "image/png": "[encoded data removed]"
          },
          "metadata": {
            "needs_background": "light"
          }
        },
        {
          "output_type": "display_data",
          "data": {
            "text/plain": [
              "<Figure size 864x72 with 1 Axes>"
            ],
            "image/png": "[encoded data removed]"
          },
          "metadata": {
            "needs_background": "light"
          }
        },
        {
          "output_type": "display_data",
          "data": {
            "text/plain": [
              "<Figure size 864x72 with 1 Axes>"
            ],
            "image/png": "[encoded data removed]"
          },
          "metadata": {
            "needs_background": "light"
          }
        },
        {
          "output_type": "display_data",
          "data": {
            "text/plain": [
              "<Figure size 864x72 with 1 Axes>"
            ],
            "image/png": "[encoded data removed]"
          },
          "metadata": {
            "needs_background": "light"
          }
        },
        {
          "output_type": "display_data",
          "data": {
            "text/plain": [
              "<Figure size 864x72 with 1 Axes>"
            ],
            "image/png": "[encoded data removed]"
          },
          "metadata": {
            "needs_background": "light"
          }
        },
        {
          "output_type": "display_data",
          "data": {
            "text/plain": [
              "<Figure size 864x72 with 1 Axes>"
            ],
            "image/png": "[encoded data removed]"
          },
          "metadata": {
            "needs_background": "light"
          }
        },
        {
          "output_type": "display_data",
          "data": {
            "text/plain": [
              "<Figure size 864x72 with 1 Axes>"
            ],
            "image/png": "[encoded data removed]"
          },
          "metadata": {
            "needs_background": "light"
          }
        },
        {
          "output_type": "display_data",
          "data": {
            "text/plain": [
              "<Figure size 864x72 with 1 Axes>"
            ],
            "image/png": "[encoded data removed]"
          },
          "metadata": {
            "needs_background": "light"
          }
        },
        {
          "output_type": "display_data",
          "data": {
            "text/plain": [
              "<Figure size 864x72 with 1 Axes>"
            ],
            "image/png": "[encoded data removed]"
          },
          "metadata": {
            "needs_background": "light"
          }
        }
      ]
    },
    {
      "cell_type": "markdown",
      "source": [
        "## Step 3: Prepare and split the data"
      ],
      "metadata": {
        "id": "MprFqkvW6wQ4"
      }
    },
    {
      "cell_type": "code",
      "source": [
        "### Construct X (gas data) and y (time until burn) regression data\n",
        "\n",
        "X = []\n",
        "y = []\n",
        "\n",
        "# Loop through all the raw samples\n",
        "for idx in range(len(raw_data)):\n",
        "\n",
        "  # Find the time at which the burning was detected\n",
        "  burnt_idxs = np.where(raw_data[idx][:, STATE_IDX] == BURNT_STATE_NUM)[0]\n",
        "  burn_timestamp = raw_data[idx][min(burnt_idxs), 0]\n",
        "\n",
        "  # Create sliding window gas data (without timestamp and state) to X and \"time until burn\" to y\n",
        "  win_idx = 0\n",
        "  while win_idx < len(raw_data[idx]):\n",
        "\n",
        "    # Check to make sure we're not exceeding the sequence\n",
        "    if win_idx + X_WINDOW_LEN > len(raw_data[idx]):\n",
        "      break\n",
        "\n",
        "    # Copy window to our X dataset\n",
        "    window = raw_data[idx][win_idx:(win_idx + X_WINDOW_LEN), :]\n",
        "    X.append(window)\n",
        "    \n",
        "    # Copy time until burned (at the end of the window) as our ground truth values\n",
        "    y.append(burn_timestamp - raw_data[idx][(win_idx + X_WINDOW_LEN - 1), 0])\n",
        "\n",
        "    # Mover window up by our stride\n",
        "    win_idx += X_WINDOW_STRIDE\n",
        "\n",
        "# Turn X and y into numpy arrays (and scale Y)\n",
        "X = np.array(X)\n",
        "y = np.array(y) / Y_SCALE\n",
        "\n",
        "# Check shapes\n",
        "print(\"X shape:\", X.shape)\n",
        "print(\"y shape:\", y.shape)"
      ],
      "metadata": {
        "colab": {
          "base_uri": "https://localhost:8080/"
        },
        "id": "eskG8upz7ayV",
        "outputId": "e382ad5d-73cb-4e57-e1d7-a140c428575b"
      },
      "execution_count": 10,
      "outputs": [
        {
          "output_type": "stream",
          "name": "stdout",
          "text": [
            "X shape: (6575, 20, 12)\n",
            "y shape: (6575,)\n"
          ]
        }
      ]
    },
    {
      "cell_type": "code",
      "source": [
        "### Curate the columns\n",
        "\n",
        "# Drop column(s). Remove timestamp, pressure (it's useless), and state columns.\n",
        "cols_to_delete = [TIMESTAMP_IDX, PRESSURE_IDX, STATE_IDX] \n",
        "\n",
        "# Remove column(s) from dataset\n",
        "X_curated = np.delete(X, cols_to_delete, axis=2)\n",
        "\n",
        "# Drop timestamp, state, and pressure from header\n",
        "channel_names = [name for n, name in enumerate(header) if n not in cols_to_delete]\n",
        "\n",
        "print(channel_names)\n",
        "print(X_curated.shape)"
      ],
      "metadata": {
        "colab": {
          "base_uri": "https://localhost:8080/"
        },
        "id": "9FmbkKpa0a-w",
        "outputId": "38bf0216-18be-45d1-d31d-3bd5f4079a5b"
      },
      "execution_count": 11,
      "outputs": [
        {
          "output_type": "stream",
          "name": "stdout",
          "text": [
            "['temp', 'humd', 'co2', 'voc1', 'voc2', 'no2', 'eth', 'co', 'nh3']\n",
            "(6575, 20, 9)\n"
          ]
        }
      ]
    },
    {
      "cell_type": "code",
      "source": [
        "### Shuffle and split dataset\n",
        "\n",
        "# Get number of samples\n",
        "num_samples = X_curated.shape[0]\n",
        "\n",
        "# Use a seed in case we want to recreate the exact results\n",
        "random.seed(SEED)\n",
        "\n",
        "# Shuffle our dataset\n",
        "X_y = list(zip(list(X_curated), list(y)))\n",
        "random.shuffle(X_y)\n",
        "X_all, y_all = zip(*X_y)\n",
        "\n",
        "# Calculate number of validation and test samples to put aside (round down)\n",
        "num_samples_test = int(TEST_RATIO * num_samples)\n",
        "\n",
        "# The first `num_samples_test` samples of the shuffled list becomes the test set\n",
        "X_test = X_all[:num_samples_test]\n",
        "y_test = y_all[:num_samples_test]\n",
        "\n",
        "# The remaining samples become the training set\n",
        "X_train = X_all[num_samples_test:]\n",
        "y_train = y_all[num_samples_test:]\n",
        "\n",
        "# Convert data to Numpy arrays\n",
        "X_train = np.asarray(X_train)\n",
        "y_train = np.asarray(y_train)\n",
        "X_test = np.asarray(X_test)\n",
        "y_test = np.asarray(y_test)\n",
        "\n",
        "# Print shapes of our sets\n",
        "print(\"X_train shape:\", X_train.shape)\n",
        "print(\"y_train shape:\", y_train.shape)\n",
        "print(\"X_test shape:\", X_test.shape)\n",
        "print(\"y_test shape:\", y_test.shape)"
      ],
      "metadata": {
        "colab": {
          "base_uri": "https://localhost:8080/"
        },
        "id": "o25up69BQjL_",
        "outputId": "d17151e7-c698-4be3-86e4-32a9a2edf39a"
      },
      "execution_count": 12,
      "outputs": [
        {
          "output_type": "stream",
          "name": "stdout",
          "text": [
            "X_train shape: (5260, 20, 9)\n",
            "y_train shape: (5260,)\n",
            "X_test shape: (1315, 20, 9)\n",
            "y_test shape: (1315,)\n"
          ]
        }
      ]
    },
    {
      "cell_type": "code",
      "source": [
        "### Function to calculate dataset metrics (mean, std dev, etc.) for each channel\n",
        "def calc_metrics(X, ignore_first_col=False):\n",
        "\n",
        "  # Calculate means, standard deviations, and ranges\n",
        "  means = np.mean(X, axis=0)\n",
        "  std_devs = np.std(X, axis=0)\n",
        "  mins = np.min(X, axis=0)\n",
        "  ranges = np.ptp(X, axis=0)\n",
        "\n",
        "  # Drop the first column if requested\n",
        "  if ignore_first_col:\n",
        "    return (means[1:], std_devs[1:], mins[1:], ranges[1:])\n",
        "  else:\n",
        "    return (means, std_devs, mins, ranges)"
      ],
      "metadata": {
        "id": "5ayiqB39Tl3B"
      },
      "execution_count": 13,
      "outputs": []
    },
    {
      "cell_type": "code",
      "source": [
        "### Compute the metrics of the training data\n",
        "\n",
        "# Compute per-channel metrics\n",
        "X_train_flattened = np.reshape(X_train, \n",
        "                               (X_train.shape[0] * X_train.shape[1], X_train.shape[2]))\n",
        "(means, std_devs, mins, ranges) = calc_metrics(X_train_flattened, ignore_first_col=False)\n",
        "\n",
        "# Print out the results\n",
        "print(channel_names)\n",
        "print(\"Means:\", [float(\"{:.4f}\".format(x)) for x in means])\n",
        "print(\"Std devs:\", [float(\"{:.4f}\".format(x)) for x in std_devs])\n",
        "print(\"Mins:\", [float(\"{:.4f}\".format(x)) for x in mins])\n",
        "print(\"Ranges:\", [float(\"{:.4f}\".format(x)) for x in ranges])"
      ],
      "metadata": {
        "colab": {
          "base_uri": "https://localhost:8080/"
        },
        "id": "BJQ_f8J0bmmU",
        "outputId": "5bfc0f50-8fb6-4853-edbc-87959c8bfb02"
      },
      "execution_count": 14,
      "outputs": [
        {
          "output_type": "stream",
          "name": "stdout",
          "text": [
            "['temp', 'humd', 'co2', 'voc1', 'voc2', 'no2', 'eth', 'co', 'nh3']\n",
            "Means: [75.1348, 8.8076, 15595.796, 32918.9444, 2.5933, 2.2084, 2.6444, 2.1625, 2.2842]\n",
            "Std devs: [23.3493, 9.41, 18813.5762, 24531.7977, 0.3724, 0.5553, 0.3747, 0.4926, 0.5921]\n",
            "Mins: [24.48, 0.44, 400.0, 0.0, 1.38, 0.87, 1.28, 0.59, 0.64]\n",
            "Ranges: [100.66, 55.01, 56930.0, 60000.0, 1.81, 2.3, 1.92, 2.58, 2.66]\n"
          ]
        }
      ]
    },
    {
      "cell_type": "markdown",
      "source": [
        "## Step 4: Perform preprocessing (standardization)"
      ],
      "metadata": {
        "id": "OVqgXPTCdRRz"
      }
    },
    {
      "cell_type": "code",
      "source": [
        "### Function to perform standardization for a given set of data\n",
        "def standardize_data(a, mean, std_dev):\n",
        "  standardized_a = (a - mean) / std_dev\n",
        "  return standardized_a"
      ],
      "metadata": {
        "id": "loW3F7fVeL4f"
      },
      "execution_count": 15,
      "outputs": []
    },
    {
      "cell_type": "code",
      "source": [
        "### Standardize each channel (do NOT standardize the timestamp channel!)\n",
        "\n",
        "# Initialize standardized data arrays\n",
        "X_train_std = np.zeros(X_train.shape)\n",
        "X_test_std = np.zeros(X_test.shape)\n",
        "\n",
        "# Go through each channel in the training data\n",
        "for i in range(len(channel_names)):\n",
        "  X_train_std[:,:,i] = standardize_data(X_train[:,:,i], \n",
        "                                        means[i], \n",
        "                                        std_devs[i])\n",
        "\n",
        "# Go through each channel in the test data. Notice that we use the same means\n",
        "# and standard deviations that we calculated from the training data!\n",
        "for i in range(len(channel_names)):\n",
        "  X_test_std[:,:,i] = standardize_data(X_test[:,:,i], \n",
        "                                       means[i], \n",
        "                                       std_devs[i])\n",
        "    \n",
        "# Print shapes\n",
        "print(\"X_train_std shape:\", X_train_std.shape)\n",
        "print(\"X_test_std shape:\", X_test_std.shape)"
      ],
      "metadata": {
        "colab": {
          "base_uri": "https://localhost:8080/"
        },
        "id": "qRj1-DIddHlj",
        "outputId": "fc53ee54-68bf-45e5-d8af-8660c921ed21"
      },
      "execution_count": 16,
      "outputs": [
        {
          "output_type": "stream",
          "name": "stdout",
          "text": [
            "X_train_std shape: (5260, 20, 9)\n",
            "X_test_std shape: (1315, 20, 9)\n"
          ]
        }
      ]
    },
    {
      "cell_type": "code",
      "source": [
        "### Examine the metrics and histograms of the newly standardized data\n",
        "\n",
        "# Compute metrics of newly standardized data\n",
        "X_train_std_flattened = np.reshape(X_train_std, \n",
        "                                (X_train_std.shape[0] * X_train_std.shape[1], X_train_std.shape[2]))\n",
        "(means_new, std_devs_new, mins_new, ranges_new) = calc_metrics(X_train_std_flattened)\n",
        "\n",
        "# Print out the results\n",
        "print(channel_names)\n",
        "print(\"Means:\", [float(\"{:.4f}\".format(x)) for x in means_new])\n",
        "print(\"Std devs:\", [float(\"{:.4f}\".format(x)) for x in std_devs_new])\n",
        "print(\"Mins:\", [float(\"{:.4f}\".format(x)) for x in mins_new])\n",
        "print(\"Ranges:\", [float(\"{:.4f}\".format(x)) for x in ranges_new])\n",
        "\n",
        "# Create subplots\n",
        "num_hists = len(channel_names)\n",
        "fig, axs = plt.subplots(1, num_hists, figsize=(20,3))\n",
        "\n",
        "# Create histogram for each category of data\n",
        "for i in range(num_hists):\n",
        "  _ = axs[i].hist(X_train_std_flattened[:,i], bins=20, histtype='bar')\n",
        "  axs[i].title.set_text(channel_names[i])"
      ],
      "metadata": {
        "colab": {
          "base_uri": "https://localhost:8080/",
          "height": 314
        },
        "id": "OegCLBAaeYf5",
        "outputId": "ab0495f0-122f-443b-ad5c-2a8bd3485659"
      },
      "execution_count": 17,
      "outputs": [
        {
          "output_type": "stream",
          "name": "stdout",
          "text": [
            "['temp', 'humd', 'co2', 'voc1', 'voc2', 'no2', 'eth', 'co', 'nh3']\n",
            "Means: [0.0, 0.0, 0.0, 0.0, 0.0, -0.0, 0.0, 0.0, 0.0]\n",
            "Std devs: [1.0, 1.0, 1.0, 1.0, 1.0, 1.0, 1.0, 1.0, 1.0]\n",
            "Mins: [-2.1694, -0.8892, -0.8077, -1.3419, -3.2579, -2.41, -3.6418, -3.1925, -2.7767]\n",
            "Ranges: [4.311, 5.8459, 3.026, 2.4458, 4.86, 4.1416, 5.1246, 5.238, 4.4923]\n"
          ]
        },
        {
          "output_type": "display_data",
          "data": {
            "text/plain": [
              "<Figure size 1440x216 with 9 Axes>"
            ],
            "image/png": "[encoded data removed]"
          },
          "metadata": {
            "needs_background": "light"
          }
        }
      ]
    },
    {
      "cell_type": "markdown",
      "source": [
        "## Step 5: Store preprocessed data in CSV files"
      ],
      "metadata": {
        "id": "CZWNtTCQgRA3"
      }
    },
    {
      "cell_type": "code",
      "source": [
        "### Delete output directory (if it exists) and recreate it\n",
        "if os.path.exists(OUT_PATH):\n",
        "  shutil.rmtree(OUT_PATH)\n",
        "os.makedirs(os.path.join(OUT_PATH, TRAIN_DIR))\n",
        "os.makedirs(os.path.join(OUT_PATH, TEST_DIR))"
      ],
      "metadata": {
        "id": "uSy96lbfgWZH"
      },
      "execution_count": 18,
      "outputs": []
    },
    {
      "cell_type": "code",
      "source": [
        "# Add timestamp function\n",
        "def add_timestamps(X, sample_rate):\n",
        "  \n",
        "  # Add timestamps to data\n",
        "  X_with_timestamp = []\n",
        "  for idx in range(X.shape[0]):\n",
        "    sample = []\n",
        "    for t in range(X.shape[1]):\n",
        "      timestamp = t * sample_rate\n",
        "      reading = np.insert(X[idx, i, :], 0, timestamp, axis=0)\n",
        "      sample.append(reading)\n",
        "    X_with_timestamp.append(np.array(sample))\n",
        "\n",
        "  # Convert to Numpy array\n",
        "  X_with_timestamp = np.array(X_with_timestamp)\n",
        "\n",
        "  return X_with_timestamp"
      ],
      "metadata": {
        "id": "c7a84IE6Jx4i"
      },
      "execution_count": 19,
      "outputs": []
    },
    {
      "cell_type": "code",
      "source": [
        "### Add timestamps to data\n",
        "\n",
        "# Add timestamps\n",
        "X_train_csv = add_timestamps(X_train_std, sample_rate)\n",
        "X_test_csv = add_timestamps(X_test_std, sample_rate)\n",
        "\n",
        "# Add timestamp to header\n",
        "channel_names_csv = [\"timestamp\"] + channel_names\n",
        "\n",
        "# Print shapes\n",
        "print(channel_names_csv)\n",
        "print(\"X train CSV:\", X_train_csv.shape)\n",
        "print(\"X test CSV:\", X_test_csv.shape)"
      ],
      "metadata": {
        "colab": {
          "base_uri": "https://localhost:8080/"
        },
        "id": "rQopIJ5wIH_y",
        "outputId": "56ad6927-5fe7-42db-b2c8-c6ba7c4056a8"
      },
      "execution_count": 20,
      "outputs": [
        {
          "output_type": "stream",
          "name": "stdout",
          "text": [
            "['timestamp', 'temp', 'humd', 'co2', 'voc1', 'voc2', 'no2', 'eth', 'co', 'nh3']\n",
            "X train CSV: (5260, 20, 10)\n",
            "X test CSV: (1315, 20, 10)\n"
          ]
        }
      ]
    },
    {
      "cell_type": "code",
      "source": [
        "### Function to write header and data to CSV file to given directory\n",
        "def write_csv_data(header, data, filepath):\n",
        "    with open(filepath, 'w') as f:\n",
        "      csv_writer = csv.writer(f, delimiter=',')\n",
        "      csv_writer.writerow(header)\n",
        "      for i in range(data.shape[0]):\n",
        "        csv_writer.writerow(data[i])"
      ],
      "metadata": {
        "id": "rYjMcEBdNT3R"
      },
      "execution_count": 21,
      "outputs": []
    },
    {
      "cell_type": "code",
      "source": [
        "### Write training and test data to .csv files in separate directories\n",
        "\n",
        "# Write out training data\n",
        "dir_path = os.path.join(OUT_PATH, TRAIN_DIR)\n",
        "for idx in range(len(y_train)):\n",
        "  label = str(round(y_train[idx]))\n",
        "  id = uuid.uuid4().hex\n",
        "  filename = label + \".\" + id + \".csv\"\n",
        "  filepath = os.path.join(OUT_PATH, TRAIN_DIR, filename)\n",
        "  write_csv_data(channel_names_csv, X_train_csv[idx], filepath)\n",
        "\n",
        "# Write out test data\n",
        "dir_path = os.path.join(OUT_PATH, TEST_DIR)\n",
        "for idx in range(len(y_test)):\n",
        "  label = str(round(y_test[idx]))\n",
        "  id = uuid.uuid4().hex\n",
        "  filename = label + \".\" + id + \".csv\"\n",
        "  filepath = os.path.join(OUT_PATH, TEST_DIR, filename)\n",
        "  write_csv_data(channel_names_csv, X_test_csv[idx], filepath)"
      ],
      "metadata": {
        "id": "Ve04cR2ygYud"
      },
      "execution_count": 22,
      "outputs": []
    },
    {
      "cell_type": "code",
      "source": [
        "### Zip output directory\n",
        "%cd {OUT_PATH}\n",
        "!zip -FS -r -q {OUT_ZIP} *\n",
        "%cd {HOME_PATH}"
      ],
      "metadata": {
        "colab": {
          "base_uri": "https://localhost:8080/"
        },
        "id": "rvX5cMw0hqAy",
        "outputId": "92225674-b4f9-44cd-e642-d3f94273640e"
      },
      "execution_count": 23,
      "outputs": [
        {
          "output_type": "stream",
          "name": "stdout",
          "text": [
            "/content/out\n",
            "/content\n"
          ]
        }
      ]
    },
    {
      "cell_type": "markdown",
      "source": [
        "## Step 6: Test regression model"
      ],
      "metadata": {
        "id": "HsZzS_MQzzPA"
      }
    },
    {
      "cell_type": "code",
      "source": [
        "import tensorflow as tf\n",
        "from tensorflow.keras.models import Sequential\n",
        "from tensorflow.keras.layers import Dense, Dropout, Conv1D, DepthwiseConv1D, Flatten, Reshape\n",
        "from tensorflow.keras.optimizers import Adam"
      ],
      "metadata": {
        "id": "dm2aRgwWj9Yc"
      },
      "execution_count": null,
      "outputs": []
    },
    {
      "cell_type": "code",
      "source": [
        "### Build and train model\n",
        "\n",
        "# Get dimensions\n",
        "n_channels = X_train_std.shape[2]\n",
        "\n",
        "# A sequential model is a linear stack of layers\n",
        "model = Sequential()\n",
        "\n",
        "# --- Model 1: 1DConv ---\n",
        "# # Test to mimic Edge Impulse\n",
        "# model.add(Reshape(target_shape=(20, 9), input_shape=(180,)))\n",
        "\n",
        "# # First layer: 1D convolution for filtering\n",
        "# model.add(Conv1D(3,\n",
        "#                  kernel_size=3,\n",
        "#                   strides=1,\n",
        "#                   padding='same',\n",
        "#                   data_format='channels_last',\n",
        "#                   activation='relu'))\n",
        "\n",
        "# model.add(Conv1D(3,\n",
        "#                  kernel_size=3,\n",
        "#                   strides=2,\n",
        "#                   padding='same',\n",
        "#                   data_format='channels_last',\n",
        "#                   activation='relu'))\n",
        "\n",
        "# # Flatten and DNN for classification\n",
        "# model.add(Flatten())\n",
        "# model.add(Dropout(0.25))\n",
        "# model.add(Dense(40,\n",
        "#                 activation=tf.keras.activations.relu))\n",
        "# model.add(Dropout(0.25))\n",
        "# model.add(Dense(1,\n",
        "#                 activation='linear'))\n",
        "\n",
        "# --- Model 2: Depthwise 1DConv ---\n",
        "# # Test to mimic Edge Impulse\n",
        "# model.add(Reshape(target_shape=(20, 9), input_shape=(180,)))\n",
        "\n",
        "# # First layer: 1D depthwise convolution for filtering\n",
        "# model.add(DepthwiseConv1D(3, # kernel size\n",
        "#                           strides=1,\n",
        "#                           padding='same',\n",
        "#                           depth_multiplier=1,\n",
        "#                           data_format='channels_last',\n",
        "#                           activation='relu'))\n",
        "\n",
        "# # Flatten and DNN for classification\n",
        "# model.add(Flatten())\n",
        "# model.add(Dropout(0.25))\n",
        "# model.add(Dense(80,\n",
        "#                 activation=tf.keras.activations.relu))\n",
        "# model.add(Dropout(0.25))\n",
        "# model.add(Dense(1,\n",
        "#                 activation='linear'))\n",
        "\n",
        "# # --- Model 3: DNN ---\n",
        "model.add(Dense(40,\n",
        "                activation=tf.keras.activations.relu))\n",
        "model.add(Dropout(0.25))\n",
        "model.add(Dense(20,\n",
        "                activation=tf.keras.activations.relu))\n",
        "model.add(Dropout(0.25))\n",
        "model.add(Dense(1,\n",
        "                activation='linear'))\n",
        "\n",
        "# Configure the model's training settings\n",
        "opt = Adam(learning_rate=0.001,\n",
        "           beta_1=0.9,\n",
        "           beta_2=0.999)\n",
        "model.compile(loss='mse', optimizer='adam', metrics=['mse', 'mae'])"
      ],
      "metadata": {
        "id": "2D3rLMwQz97H"
      },
      "execution_count": null,
      "outputs": []
    },
    {
      "cell_type": "code",
      "source": [
        "### Train the model\n",
        "\n",
        "# Flatten dataset (to mimic Edge Impulse)\n",
        "X_train_reshape = np.reshape(X_train_std, (X_train_std.shape[0], X_train_std.shape[1] * X_train_std.shape[2]))\n",
        "\n",
        "history = model.fit(X_train_reshape, \n",
        "                    y_train, \n",
        "                    epochs=500,\n",
        "                    batch_size=50,\n",
        "                    verbose=1,\n",
        "                    validation_split=0.2)"
      ],
      "metadata": {
        "colab": {
          "base_uri": "https://localhost:8080/"
        },
        "id": "x4dMwVDO4SMi",
        "outputId": "4d3d0b66-afde-4b9e-e845-f07c1fd60b3a"
      },
      "execution_count": null,
      "outputs": [
        {
          "output_type": "stream",
          "name": "stdout",
          "text": [
            "Epoch 1/500\n",
            "77/77 [==============================] - 1s 5ms/step - loss: 5786.0332 - mse: 5786.0332 - mae: 61.7001 - val_loss: 3006.2839 - val_mse: 3006.2839 - val_mae: 44.6814\n",
            "Epoch 2/500\n",
            "77/77 [==============================] - 0s 3ms/step - loss: 2686.6331 - mse: 2686.6331 - mae: 41.5049 - val_loss: 1721.1099 - val_mse: 1721.1099 - val_mae: 32.1103\n",
            "Epoch 3/500\n",
            "77/77 [==============================] - 0s 3ms/step - loss: 1732.9603 - mse: 1732.9603 - mae: 32.0396 - val_loss: 1121.6029 - val_mse: 1121.6029 - val_mae: 24.9563\n",
            "Epoch 4/500\n",
            "77/77 [==============================] - 0s 3ms/step - loss: 1378.3479 - mse: 1378.3479 - mae: 28.7516 - val_loss: 880.3447 - val_mse: 880.3447 - val_mae: 22.3365\n",
            "Epoch 5/500\n",
            "77/77 [==============================] - 0s 3ms/step - loss: 1250.9719 - mse: 1250.9719 - mae: 27.4054 - val_loss: 779.6631 - val_mse: 779.6631 - val_mae: 21.0720\n",
            "Epoch 6/500\n",
            "77/77 [==============================] - 0s 3ms/step - loss: 1166.2736 - mse: 1166.2736 - mae: 26.2845 - val_loss: 714.9513 - val_mse: 714.9513 - val_mae: 20.1542\n",
            "Epoch 7/500\n",
            "77/77 [==============================] - 0s 3ms/step - loss: 1054.0474 - mse: 1054.0474 - mae: 25.2423 - val_loss: 659.0227 - val_mse: 659.0227 - val_mae: 19.5731\n",
            "Epoch 8/500\n",
            "77/77 [==============================] - 0s 3ms/step - loss: 1003.8418 - mse: 1003.8418 - mae: 24.7422 - val_loss: 632.6873 - val_mse: 632.6873 - val_mae: 18.8138\n",
            "Epoch 9/500\n",
            "77/77 [==============================] - 0s 3ms/step - loss: 967.7211 - mse: 967.7211 - mae: 24.1174 - val_loss: 580.6415 - val_mse: 580.6415 - val_mae: 18.3639\n",
            "Epoch 10/500\n",
            "77/77 [==============================] - 0s 3ms/step - loss: 964.6041 - mse: 964.6041 - mae: 24.2910 - val_loss: 555.9477 - val_mse: 555.9477 - val_mae: 17.7510\n",
            "Epoch 11/500\n",
            "77/77 [==============================] - 0s 3ms/step - loss: 945.4100 - mse: 945.4100 - mae: 23.8578 - val_loss: 561.4016 - val_mse: 561.4016 - val_mae: 18.0096\n",
            "Epoch 12/500\n",
            "77/77 [==============================] - 0s 3ms/step - loss: 951.0119 - mse: 951.0119 - mae: 23.9624 - val_loss: 521.1652 - val_mse: 521.1652 - val_mae: 17.1992\n",
            "Epoch 13/500\n",
            "77/77 [==============================] - 0s 3ms/step - loss: 889.7092 - mse: 889.7092 - mae: 22.9732 - val_loss: 507.4618 - val_mse: 507.4618 - val_mae: 17.0892\n",
            "Epoch 14/500\n",
            "77/77 [==============================] - 0s 3ms/step - loss: 872.6086 - mse: 872.6086 - mae: 22.8048 - val_loss: 493.0900 - val_mse: 493.0900 - val_mae: 16.5876\n",
            "Epoch 15/500\n",
            "77/77 [==============================] - 0s 3ms/step - loss: 875.4082 - mse: 875.4082 - mae: 22.7511 - val_loss: 498.9314 - val_mse: 498.9314 - val_mae: 16.8893\n",
            "Epoch 16/500\n",
            "77/77 [==============================] - 0s 3ms/step - loss: 857.1039 - mse: 857.1039 - mae: 22.4978 - val_loss: 433.4851 - val_mse: 433.4851 - val_mae: 15.5579\n",
            "Epoch 17/500\n",
            "77/77 [==============================] - 0s 4ms/step - loss: 828.9714 - mse: 828.9714 - mae: 22.1700 - val_loss: 424.5785 - val_mse: 424.5785 - val_mae: 15.4891\n",
            "Epoch 18/500\n",
            "77/77 [==============================] - 0s 4ms/step - loss: 815.2892 - mse: 815.2892 - mae: 21.9013 - val_loss: 413.2074 - val_mse: 413.2074 - val_mae: 15.1339\n",
            "Epoch 19/500\n",
            "77/77 [==============================] - 0s 4ms/step - loss: 830.6245 - mse: 830.6246 - mae: 22.1368 - val_loss: 402.2562 - val_mse: 402.2562 - val_mae: 15.0660\n",
            "Epoch 20/500\n",
            "77/77 [==============================] - 0s 3ms/step - loss: 790.7571 - mse: 790.7571 - mae: 21.6297 - val_loss: 384.7606 - val_mse: 384.7606 - val_mae: 14.6822\n",
            "Epoch 21/500\n",
            "77/77 [==============================] - 0s 3ms/step - loss: 797.8795 - mse: 797.8795 - mae: 21.7964 - val_loss: 379.5981 - val_mse: 379.5981 - val_mae: 14.7026\n",
            "Epoch 22/500\n",
            "77/77 [==============================] - 0s 3ms/step - loss: 799.9240 - mse: 799.9240 - mae: 21.7256 - val_loss: 376.2262 - val_mse: 376.2262 - val_mae: 14.6135\n",
            "Epoch 23/500\n",
            "77/77 [==============================] - 0s 3ms/step - loss: 744.9432 - mse: 744.9432 - mae: 20.9415 - val_loss: 354.5995 - val_mse: 354.5995 - val_mae: 13.8253\n",
            "Epoch 24/500\n",
            "77/77 [==============================] - 0s 3ms/step - loss: 753.9937 - mse: 753.9937 - mae: 21.2253 - val_loss: 373.0060 - val_mse: 373.0060 - val_mae: 14.6666\n",
            "Epoch 25/500\n",
            "77/77 [==============================] - 0s 3ms/step - loss: 742.8453 - mse: 742.8453 - mae: 20.9445 - val_loss: 364.6620 - val_mse: 364.6620 - val_mae: 14.6004\n",
            "Epoch 26/500\n",
            "77/77 [==============================] - 0s 3ms/step - loss: 757.4060 - mse: 757.4060 - mae: 21.2100 - val_loss: 353.7934 - val_mse: 353.7934 - val_mae: 14.1832\n",
            "Epoch 27/500\n",
            "77/77 [==============================] - 0s 3ms/step - loss: 750.1584 - mse: 750.1584 - mae: 20.9003 - val_loss: 336.5608 - val_mse: 336.5608 - val_mae: 13.6346\n",
            "Epoch 28/500\n",
            "77/77 [==============================] - 0s 3ms/step - loss: 736.6878 - mse: 736.6878 - mae: 20.7846 - val_loss: 342.5104 - val_mse: 342.5104 - val_mae: 13.8169\n",
            "Epoch 29/500\n",
            "77/77 [==============================] - 0s 3ms/step - loss: 761.8627 - mse: 761.8628 - mae: 21.2158 - val_loss: 339.6296 - val_mse: 339.6296 - val_mae: 13.9639\n",
            "Epoch 30/500\n",
            "77/77 [==============================] - 0s 3ms/step - loss: 763.7691 - mse: 763.7690 - mae: 21.1352 - val_loss: 343.4668 - val_mse: 343.4668 - val_mae: 14.2512\n",
            "Epoch 31/500\n",
            "77/77 [==============================] - 0s 3ms/step - loss: 720.2471 - mse: 720.2471 - mae: 20.6143 - val_loss: 324.3467 - val_mse: 324.3467 - val_mae: 13.5938\n",
            "Epoch 32/500\n",
            "77/77 [==============================] - 0s 3ms/step - loss: 724.9286 - mse: 724.9286 - mae: 20.6234 - val_loss: 324.7430 - val_mse: 324.7430 - val_mae: 13.5797\n",
            "Epoch 33/500\n",
            "77/77 [==============================] - 0s 3ms/step - loss: 738.4306 - mse: 738.4306 - mae: 20.7023 - val_loss: 311.2396 - val_mse: 311.2396 - val_mae: 13.2390\n",
            "Epoch 34/500\n",
            "77/77 [==============================] - 0s 3ms/step - loss: 733.2780 - mse: 733.2780 - mae: 20.6823 - val_loss: 322.5145 - val_mse: 322.5145 - val_mae: 13.6548\n",
            "Epoch 35/500\n",
            "77/77 [==============================] - 0s 3ms/step - loss: 714.5097 - mse: 714.5097 - mae: 20.5565 - val_loss: 332.9242 - val_mse: 332.9242 - val_mae: 14.3075\n",
            "Epoch 36/500\n",
            "77/77 [==============================] - 0s 3ms/step - loss: 720.8297 - mse: 720.8297 - mae: 20.7408 - val_loss: 308.8542 - val_mse: 308.8542 - val_mae: 13.4383\n",
            "Epoch 37/500\n",
            "77/77 [==============================] - 0s 3ms/step - loss: 721.5901 - mse: 721.5901 - mae: 20.6667 - val_loss: 322.3588 - val_mse: 322.3588 - val_mae: 13.3619\n",
            "Epoch 38/500\n",
            "77/77 [==============================] - 0s 4ms/step - loss: 732.9833 - mse: 732.9833 - mae: 20.7437 - val_loss: 410.4641 - val_mse: 410.4641 - val_mae: 15.7497\n",
            "Epoch 39/500\n",
            "77/77 [==============================] - 0s 3ms/step - loss: 730.2415 - mse: 730.2415 - mae: 20.7798 - val_loss: 334.1888 - val_mse: 334.1888 - val_mae: 14.0684\n",
            "Epoch 40/500\n",
            "77/77 [==============================] - 0s 3ms/step - loss: 716.2629 - mse: 716.2629 - mae: 20.5328 - val_loss: 287.2853 - val_mse: 287.2853 - val_mae: 12.7722\n",
            "Epoch 41/500\n",
            "77/77 [==============================] - 0s 3ms/step - loss: 697.2189 - mse: 697.2189 - mae: 20.3203 - val_loss: 303.8827 - val_mse: 303.8827 - val_mae: 13.5431\n",
            "Epoch 42/500\n",
            "77/77 [==============================] - 0s 3ms/step - loss: 734.3040 - mse: 734.3040 - mae: 20.8291 - val_loss: 330.5661 - val_mse: 330.5661 - val_mae: 13.4376\n",
            "Epoch 43/500\n",
            "77/77 [==============================] - 0s 3ms/step - loss: 677.9328 - mse: 677.9328 - mae: 20.0402 - val_loss: 289.0830 - val_mse: 289.0830 - val_mae: 12.7349\n",
            "Epoch 44/500\n",
            "77/77 [==============================] - 0s 3ms/step - loss: 681.1198 - mse: 681.1198 - mae: 19.9857 - val_loss: 280.9517 - val_mse: 280.9516 - val_mae: 12.4750\n",
            "Epoch 45/500\n",
            "77/77 [==============================] - 0s 3ms/step - loss: 683.7721 - mse: 683.7721 - mae: 20.0864 - val_loss: 307.8522 - val_mse: 307.8522 - val_mae: 13.6360\n",
            "Epoch 46/500\n",
            "77/77 [==============================] - 0s 3ms/step - loss: 663.9553 - mse: 663.9553 - mae: 19.8538 - val_loss: 322.3867 - val_mse: 322.3867 - val_mae: 13.7181\n",
            "Epoch 47/500\n",
            "77/77 [==============================] - 0s 3ms/step - loss: 679.7577 - mse: 679.7577 - mae: 20.0675 - val_loss: 312.2341 - val_mse: 312.2341 - val_mae: 13.7513\n",
            "Epoch 48/500\n",
            "77/77 [==============================] - 0s 3ms/step - loss: 703.0125 - mse: 703.0125 - mae: 20.3527 - val_loss: 299.0528 - val_mse: 299.0528 - val_mae: 13.0821\n",
            "Epoch 49/500\n",
            "77/77 [==============================] - 0s 3ms/step - loss: 652.7275 - mse: 652.7275 - mae: 19.5493 - val_loss: 308.7771 - val_mse: 308.7771 - val_mae: 13.9565\n",
            "Epoch 50/500\n",
            "77/77 [==============================] - 0s 3ms/step - loss: 707.7952 - mse: 707.7952 - mae: 20.1623 - val_loss: 282.5746 - val_mse: 282.5746 - val_mae: 12.8745\n",
            "Epoch 51/500\n",
            "77/77 [==============================] - 0s 3ms/step - loss: 648.1760 - mse: 648.1760 - mae: 19.4599 - val_loss: 278.8203 - val_mse: 278.8203 - val_mae: 12.7022\n",
            "Epoch 52/500\n",
            "77/77 [==============================] - 0s 3ms/step - loss: 649.5576 - mse: 649.5576 - mae: 19.3957 - val_loss: 267.3397 - val_mse: 267.3397 - val_mae: 12.3865\n",
            "Epoch 53/500\n",
            "77/77 [==============================] - 0s 3ms/step - loss: 663.2552 - mse: 663.2552 - mae: 19.7998 - val_loss: 328.9186 - val_mse: 328.9186 - val_mae: 14.2877\n",
            "Epoch 54/500\n",
            "77/77 [==============================] - 0s 3ms/step - loss: 662.3349 - mse: 662.3349 - mae: 19.8057 - val_loss: 289.2917 - val_mse: 289.2917 - val_mae: 12.9069\n",
            "Epoch 55/500\n",
            "77/77 [==============================] - 0s 3ms/step - loss: 680.0670 - mse: 680.0670 - mae: 20.0779 - val_loss: 284.8659 - val_mse: 284.8659 - val_mae: 12.9731\n",
            "Epoch 56/500\n",
            "77/77 [==============================] - 0s 3ms/step - loss: 678.5651 - mse: 678.5651 - mae: 19.8719 - val_loss: 293.6161 - val_mse: 293.6161 - val_mae: 13.1024\n",
            "Epoch 57/500\n",
            "77/77 [==============================] - 0s 3ms/step - loss: 669.3552 - mse: 669.3552 - mae: 19.7386 - val_loss: 257.5770 - val_mse: 257.5770 - val_mae: 12.1295\n",
            "Epoch 58/500\n",
            "77/77 [==============================] - 0s 3ms/step - loss: 650.5385 - mse: 650.5385 - mae: 19.6911 - val_loss: 279.9178 - val_mse: 279.9178 - val_mae: 12.8083\n",
            "Epoch 59/500\n",
            "77/77 [==============================] - 0s 3ms/step - loss: 658.9792 - mse: 658.9792 - mae: 19.6894 - val_loss: 267.6929 - val_mse: 267.6929 - val_mae: 12.2472\n",
            "Epoch 60/500\n",
            "77/77 [==============================] - 0s 3ms/step - loss: 656.1406 - mse: 656.1406 - mae: 19.5140 - val_loss: 269.7671 - val_mse: 269.7671 - val_mae: 12.8118\n",
            "Epoch 61/500\n",
            "77/77 [==============================] - 0s 3ms/step - loss: 651.0507 - mse: 651.0507 - mae: 19.5948 - val_loss: 274.4748 - val_mse: 274.4748 - val_mae: 12.4607\n",
            "Epoch 62/500\n",
            "77/77 [==============================] - 0s 3ms/step - loss: 641.7303 - mse: 641.7303 - mae: 19.4064 - val_loss: 266.6144 - val_mse: 266.6144 - val_mae: 12.4137\n",
            "Epoch 63/500\n",
            "77/77 [==============================] - 0s 4ms/step - loss: 651.3205 - mse: 651.3205 - mae: 19.6950 - val_loss: 257.7351 - val_mse: 257.7351 - val_mae: 12.0361\n",
            "Epoch 64/500\n",
            "77/77 [==============================] - 0s 3ms/step - loss: 649.1053 - mse: 649.1053 - mae: 19.4058 - val_loss: 260.9685 - val_mse: 260.9685 - val_mae: 12.5132\n",
            "Epoch 65/500\n",
            "77/77 [==============================] - 0s 3ms/step - loss: 661.0633 - mse: 661.0633 - mae: 19.6766 - val_loss: 248.0491 - val_mse: 248.0491 - val_mae: 11.9587\n",
            "Epoch 66/500\n",
            "77/77 [==============================] - 0s 3ms/step - loss: 639.4219 - mse: 639.4219 - mae: 19.4011 - val_loss: 246.8187 - val_mse: 246.8187 - val_mae: 11.8665\n",
            "Epoch 67/500\n",
            "77/77 [==============================] - 0s 3ms/step - loss: 649.6066 - mse: 649.6066 - mae: 19.4468 - val_loss: 258.2616 - val_mse: 258.2616 - val_mae: 12.4655\n",
            "Epoch 68/500\n",
            "77/77 [==============================] - 0s 3ms/step - loss: 633.8578 - mse: 633.8578 - mae: 19.2678 - val_loss: 280.0666 - val_mse: 280.0666 - val_mae: 12.8713\n",
            "Epoch 69/500\n",
            "77/77 [==============================] - 0s 3ms/step - loss: 668.8022 - mse: 668.8022 - mae: 19.8968 - val_loss: 275.5956 - val_mse: 275.5956 - val_mae: 12.9530\n",
            "Epoch 70/500\n",
            "77/77 [==============================] - 0s 3ms/step - loss: 645.3281 - mse: 645.3281 - mae: 19.4665 - val_loss: 259.6544 - val_mse: 259.6544 - val_mae: 12.3626\n",
            "Epoch 71/500\n",
            "77/77 [==============================] - 0s 3ms/step - loss: 589.5795 - mse: 589.5795 - mae: 18.7643 - val_loss: 258.8682 - val_mse: 258.8682 - val_mae: 12.1459\n",
            "Epoch 72/500\n",
            "77/77 [==============================] - 0s 3ms/step - loss: 606.4022 - mse: 606.4022 - mae: 18.8881 - val_loss: 267.1671 - val_mse: 267.1671 - val_mae: 12.6541\n",
            "Epoch 73/500\n",
            "77/77 [==============================] - 0s 3ms/step - loss: 661.3864 - mse: 661.3864 - mae: 19.6592 - val_loss: 251.2055 - val_mse: 251.2055 - val_mae: 11.9703\n",
            "Epoch 74/500\n",
            "77/77 [==============================] - 0s 3ms/step - loss: 619.9635 - mse: 619.9635 - mae: 19.0531 - val_loss: 253.5669 - val_mse: 253.5669 - val_mae: 12.1832\n",
            "Epoch 75/500\n",
            "77/77 [==============================] - 0s 3ms/step - loss: 617.1078 - mse: 617.1078 - mae: 19.0850 - val_loss: 263.1121 - val_mse: 263.1121 - val_mae: 12.4547\n",
            "Epoch 76/500\n",
            "77/77 [==============================] - 0s 3ms/step - loss: 623.8370 - mse: 623.8370 - mae: 19.1358 - val_loss: 245.8007 - val_mse: 245.8007 - val_mae: 12.0305\n",
            "Epoch 77/500\n",
            "77/77 [==============================] - 0s 3ms/step - loss: 628.0010 - mse: 628.0010 - mae: 19.0248 - val_loss: 253.0107 - val_mse: 253.0107 - val_mae: 12.4716\n",
            "Epoch 78/500\n",
            "77/77 [==============================] - 0s 3ms/step - loss: 606.4977 - mse: 606.4977 - mae: 18.9109 - val_loss: 251.5501 - val_mse: 251.5501 - val_mae: 12.4725\n",
            "Epoch 79/500\n",
            "77/77 [==============================] - 0s 3ms/step - loss: 620.3295 - mse: 620.3295 - mae: 18.9189 - val_loss: 254.1398 - val_mse: 254.1398 - val_mae: 12.2446\n",
            "Epoch 80/500\n",
            "77/77 [==============================] - 0s 3ms/step - loss: 618.0972 - mse: 618.0971 - mae: 19.0621 - val_loss: 259.2827 - val_mse: 259.2827 - val_mae: 12.6343\n",
            "Epoch 81/500\n",
            "77/77 [==============================] - 0s 3ms/step - loss: 598.0402 - mse: 598.0402 - mae: 18.8784 - val_loss: 240.3774 - val_mse: 240.3774 - val_mae: 11.8658\n",
            "Epoch 82/500\n",
            "77/77 [==============================] - 0s 3ms/step - loss: 641.5117 - mse: 641.5117 - mae: 19.3664 - val_loss: 236.3338 - val_mse: 236.3338 - val_mae: 11.9307\n",
            "Epoch 83/500\n",
            "77/77 [==============================] - 0s 3ms/step - loss: 617.5963 - mse: 617.5963 - mae: 18.8476 - val_loss: 256.4081 - val_mse: 256.4081 - val_mae: 12.3684\n",
            "Epoch 84/500\n",
            "77/77 [==============================] - 0s 3ms/step - loss: 621.1449 - mse: 621.1449 - mae: 19.1431 - val_loss: 264.8869 - val_mse: 264.8869 - val_mae: 12.5189\n",
            "Epoch 85/500\n",
            "77/77 [==============================] - 0s 3ms/step - loss: 618.4453 - mse: 618.4453 - mae: 18.9341 - val_loss: 238.7973 - val_mse: 238.7973 - val_mae: 11.9914\n",
            "Epoch 86/500\n",
            "77/77 [==============================] - 0s 3ms/step - loss: 601.9676 - mse: 601.9676 - mae: 18.9700 - val_loss: 217.3606 - val_mse: 217.3606 - val_mae: 11.3082\n",
            "Epoch 87/500\n",
            "77/77 [==============================] - 0s 3ms/step - loss: 603.2761 - mse: 603.2761 - mae: 18.5463 - val_loss: 222.7184 - val_mse: 222.7184 - val_mae: 11.1839\n",
            "Epoch 88/500\n",
            "77/77 [==============================] - 0s 3ms/step - loss: 590.2716 - mse: 590.2716 - mae: 18.5820 - val_loss: 245.9263 - val_mse: 245.9263 - val_mae: 11.7251\n",
            "Epoch 89/500\n",
            "77/77 [==============================] - 0s 3ms/step - loss: 612.6755 - mse: 612.6755 - mae: 18.8872 - val_loss: 260.1983 - val_mse: 260.1983 - val_mae: 12.6234\n",
            "Epoch 90/500\n",
            "77/77 [==============================] - 0s 3ms/step - loss: 606.5792 - mse: 606.5792 - mae: 18.7649 - val_loss: 266.9548 - val_mse: 266.9548 - val_mae: 12.4632\n",
            "Epoch 91/500\n",
            "77/77 [==============================] - 0s 3ms/step - loss: 603.6661 - mse: 603.6661 - mae: 18.6061 - val_loss: 241.5597 - val_mse: 241.5597 - val_mae: 11.9309\n",
            "Epoch 92/500\n",
            "77/77 [==============================] - 0s 3ms/step - loss: 589.8322 - mse: 589.8322 - mae: 18.5140 - val_loss: 223.7722 - val_mse: 223.7722 - val_mae: 11.2755\n",
            "Epoch 93/500\n",
            "77/77 [==============================] - 0s 3ms/step - loss: 610.1174 - mse: 610.1174 - mae: 18.6666 - val_loss: 226.7317 - val_mse: 226.7317 - val_mae: 11.5152\n",
            "Epoch 94/500\n",
            "77/77 [==============================] - 0s 3ms/step - loss: 595.9557 - mse: 595.9557 - mae: 18.6177 - val_loss: 239.5182 - val_mse: 239.5182 - val_mae: 12.1085\n",
            "Epoch 95/500\n",
            "77/77 [==============================] - 0s 3ms/step - loss: 621.2560 - mse: 621.2560 - mae: 18.9452 - val_loss: 225.9587 - val_mse: 225.9587 - val_mae: 11.5467\n",
            "Epoch 96/500\n",
            "77/77 [==============================] - 0s 3ms/step - loss: 582.9193 - mse: 582.9193 - mae: 18.2036 - val_loss: 220.4835 - val_mse: 220.4835 - val_mae: 11.4870\n",
            "Epoch 97/500\n",
            "77/77 [==============================] - 0s 3ms/step - loss: 585.8975 - mse: 585.8975 - mae: 18.4830 - val_loss: 216.7501 - val_mse: 216.7501 - val_mae: 11.2949\n",
            "Epoch 98/500\n",
            "77/77 [==============================] - 0s 3ms/step - loss: 601.7756 - mse: 601.7756 - mae: 18.7866 - val_loss: 238.9914 - val_mse: 238.9914 - val_mae: 11.7219\n",
            "Epoch 99/500\n",
            "77/77 [==============================] - 0s 3ms/step - loss: 579.0999 - mse: 579.0999 - mae: 18.5212 - val_loss: 232.0217 - val_mse: 232.0217 - val_mae: 11.6377\n",
            "Epoch 100/500\n",
            "77/77 [==============================] - 0s 3ms/step - loss: 584.6157 - mse: 584.6158 - mae: 18.3767 - val_loss: 249.7745 - val_mse: 249.7745 - val_mae: 11.9662\n",
            "Epoch 101/500\n",
            "77/77 [==============================] - 0s 3ms/step - loss: 600.6986 - mse: 600.6986 - mae: 18.5193 - val_loss: 215.8513 - val_mse: 215.8513 - val_mae: 11.0960\n",
            "Epoch 102/500\n",
            "77/77 [==============================] - 0s 4ms/step - loss: 574.1366 - mse: 574.1366 - mae: 18.3552 - val_loss: 227.5838 - val_mse: 227.5838 - val_mae: 11.7130\n",
            "Epoch 103/500\n",
            "77/77 [==============================] - 0s 3ms/step - loss: 609.1973 - mse: 609.1973 - mae: 18.6140 - val_loss: 225.9485 - val_mse: 225.9485 - val_mae: 11.4135\n",
            "Epoch 104/500\n",
            "77/77 [==============================] - 0s 3ms/step - loss: 604.8392 - mse: 604.8392 - mae: 18.5687 - val_loss: 227.6347 - val_mse: 227.6347 - val_mae: 11.7702\n",
            "Epoch 105/500\n",
            "77/77 [==============================] - 0s 3ms/step - loss: 595.6896 - mse: 595.6896 - mae: 18.4666 - val_loss: 228.1307 - val_mse: 228.1307 - val_mae: 11.8527\n",
            "Epoch 106/500\n",
            "77/77 [==============================] - 0s 3ms/step - loss: 594.8587 - mse: 594.8587 - mae: 18.6415 - val_loss: 230.1924 - val_mse: 230.1924 - val_mae: 11.6497\n",
            "Epoch 107/500\n",
            "77/77 [==============================] - 0s 3ms/step - loss: 579.0046 - mse: 579.0046 - mae: 18.2905 - val_loss: 204.9681 - val_mse: 204.9681 - val_mae: 11.0385\n",
            "Epoch 108/500\n",
            "77/77 [==============================] - 0s 3ms/step - loss: 573.2417 - mse: 573.2417 - mae: 18.1162 - val_loss: 221.2802 - val_mse: 221.2802 - val_mae: 11.5131\n",
            "Epoch 109/500\n",
            "77/77 [==============================] - 0s 4ms/step - loss: 578.7267 - mse: 578.7267 - mae: 18.2010 - val_loss: 250.6732 - val_mse: 250.6732 - val_mae: 12.4288\n",
            "Epoch 110/500\n",
            "77/77 [==============================] - 0s 3ms/step - loss: 585.8636 - mse: 585.8636 - mae: 18.2864 - val_loss: 272.3882 - val_mse: 272.3882 - val_mae: 12.8895\n",
            "Epoch 111/500\n",
            "77/77 [==============================] - 0s 3ms/step - loss: 584.8431 - mse: 584.8431 - mae: 18.3059 - val_loss: 209.0295 - val_mse: 209.0295 - val_mae: 11.2114\n",
            "Epoch 112/500\n",
            "77/77 [==============================] - 0s 3ms/step - loss: 589.6143 - mse: 589.6143 - mae: 18.5272 - val_loss: 249.2045 - val_mse: 249.2045 - val_mae: 12.5973\n",
            "Epoch 113/500\n",
            "77/77 [==============================] - 0s 3ms/step - loss: 593.3243 - mse: 593.3243 - mae: 18.4227 - val_loss: 205.0012 - val_mse: 205.0012 - val_mae: 10.9878\n",
            "Epoch 114/500\n",
            "77/77 [==============================] - 0s 3ms/step - loss: 566.1507 - mse: 566.1507 - mae: 18.1506 - val_loss: 215.1852 - val_mse: 215.1852 - val_mae: 11.1900\n",
            "Epoch 115/500\n",
            "77/77 [==============================] - 0s 3ms/step - loss: 557.0618 - mse: 557.0618 - mae: 18.0612 - val_loss: 218.5333 - val_mse: 218.5333 - val_mae: 11.2984\n",
            "Epoch 116/500\n",
            "77/77 [==============================] - 0s 3ms/step - loss: 561.3045 - mse: 561.3045 - mae: 18.0506 - val_loss: 205.3083 - val_mse: 205.3083 - val_mae: 10.9260\n",
            "Epoch 117/500\n",
            "77/77 [==============================] - 0s 3ms/step - loss: 552.6233 - mse: 552.6233 - mae: 17.7808 - val_loss: 217.1959 - val_mse: 217.1959 - val_mae: 11.3386\n",
            "Epoch 118/500\n",
            "77/77 [==============================] - 0s 3ms/step - loss: 555.9409 - mse: 555.9409 - mae: 17.9340 - val_loss: 204.3751 - val_mse: 204.3751 - val_mae: 10.6952\n",
            "Epoch 119/500\n",
            "77/77 [==============================] - 0s 3ms/step - loss: 556.2028 - mse: 556.2028 - mae: 17.8435 - val_loss: 206.6450 - val_mse: 206.6450 - val_mae: 10.8770\n",
            "Epoch 120/500\n",
            "77/77 [==============================] - 0s 3ms/step - loss: 569.6424 - mse: 569.6424 - mae: 18.0931 - val_loss: 199.0441 - val_mse: 199.0441 - val_mae: 10.6022\n",
            "Epoch 121/500\n",
            "77/77 [==============================] - 0s 3ms/step - loss: 570.4318 - mse: 570.4318 - mae: 18.0689 - val_loss: 215.8851 - val_mse: 215.8851 - val_mae: 11.4876\n",
            "Epoch 122/500\n",
            "77/77 [==============================] - 0s 3ms/step - loss: 551.0270 - mse: 551.0270 - mae: 17.8561 - val_loss: 213.1242 - val_mse: 213.1242 - val_mae: 11.1586\n",
            "Epoch 123/500\n",
            "77/77 [==============================] - 0s 3ms/step - loss: 559.4679 - mse: 559.4679 - mae: 18.1528 - val_loss: 205.8118 - val_mse: 205.8118 - val_mae: 11.0040\n",
            "Epoch 124/500\n",
            "77/77 [==============================] - 0s 3ms/step - loss: 548.7958 - mse: 548.7958 - mae: 17.7820 - val_loss: 217.3880 - val_mse: 217.3880 - val_mae: 10.9323\n",
            "Epoch 125/500\n",
            "77/77 [==============================] - 0s 3ms/step - loss: 559.2548 - mse: 559.2548 - mae: 17.7431 - val_loss: 223.3333 - val_mse: 223.3333 - val_mae: 11.5108\n",
            "Epoch 126/500\n",
            "77/77 [==============================] - 0s 3ms/step - loss: 539.7073 - mse: 539.7073 - mae: 17.5730 - val_loss: 201.7273 - val_mse: 201.7273 - val_mae: 10.8673\n",
            "Epoch 127/500\n",
            "77/77 [==============================] - 0s 3ms/step - loss: 577.3539 - mse: 577.3539 - mae: 18.0889 - val_loss: 198.0301 - val_mse: 198.0301 - val_mae: 10.7030\n",
            "Epoch 128/500\n",
            "77/77 [==============================] - 0s 3ms/step - loss: 570.3693 - mse: 570.3693 - mae: 18.0825 - val_loss: 192.1013 - val_mse: 192.1013 - val_mae: 10.4866\n",
            "Epoch 129/500\n",
            "77/77 [==============================] - 0s 3ms/step - loss: 553.3363 - mse: 553.3363 - mae: 17.8337 - val_loss: 225.9670 - val_mse: 225.9670 - val_mae: 11.7233\n",
            "Epoch 130/500\n",
            "77/77 [==============================] - 0s 4ms/step - loss: 531.4779 - mse: 531.4779 - mae: 17.6898 - val_loss: 212.7849 - val_mse: 212.7849 - val_mae: 11.0943\n",
            "Epoch 131/500\n",
            "77/77 [==============================] - 0s 4ms/step - loss: 559.1012 - mse: 559.1012 - mae: 17.9476 - val_loss: 196.8985 - val_mse: 196.8985 - val_mae: 10.6047\n",
            "Epoch 132/500\n",
            "77/77 [==============================] - 0s 4ms/step - loss: 555.7256 - mse: 555.7256 - mae: 17.8462 - val_loss: 206.6081 - val_mse: 206.6081 - val_mae: 10.9851\n",
            "Epoch 133/500\n",
            "77/77 [==============================] - 0s 4ms/step - loss: 542.6967 - mse: 542.6967 - mae: 17.7246 - val_loss: 221.2500 - val_mse: 221.2500 - val_mae: 11.4180\n",
            "Epoch 134/500\n",
            "77/77 [==============================] - 0s 3ms/step - loss: 584.2557 - mse: 584.2557 - mae: 18.2399 - val_loss: 204.3307 - val_mse: 204.3307 - val_mae: 10.9212\n",
            "Epoch 135/500\n",
            "77/77 [==============================] - 0s 3ms/step - loss: 578.3556 - mse: 578.3556 - mae: 18.0912 - val_loss: 204.8789 - val_mse: 204.8789 - val_mae: 10.9403\n",
            "Epoch 136/500\n",
            "77/77 [==============================] - 0s 3ms/step - loss: 578.0945 - mse: 578.0945 - mae: 18.0252 - val_loss: 208.6857 - val_mse: 208.6857 - val_mae: 11.0905\n",
            "Epoch 137/500\n",
            "77/77 [==============================] - 0s 3ms/step - loss: 546.4584 - mse: 546.4584 - mae: 17.6144 - val_loss: 204.2942 - val_mse: 204.2942 - val_mae: 10.8922\n",
            "Epoch 138/500\n",
            "77/77 [==============================] - 0s 3ms/step - loss: 537.2173 - mse: 537.2173 - mae: 17.7142 - val_loss: 190.6394 - val_mse: 190.6394 - val_mae: 10.3464\n",
            "Epoch 139/500\n",
            "77/77 [==============================] - 0s 3ms/step - loss: 563.4407 - mse: 563.4407 - mae: 17.8445 - val_loss: 228.2875 - val_mse: 228.2875 - val_mae: 11.1792\n",
            "Epoch 140/500\n",
            "77/77 [==============================] - 0s 3ms/step - loss: 560.0961 - mse: 560.0961 - mae: 17.9599 - val_loss: 208.1374 - val_mse: 208.1374 - val_mae: 11.0096\n",
            "Epoch 141/500\n",
            "77/77 [==============================] - 0s 3ms/step - loss: 585.1067 - mse: 585.1067 - mae: 18.1483 - val_loss: 222.1268 - val_mse: 222.1268 - val_mae: 11.4223\n",
            "Epoch 142/500\n",
            "77/77 [==============================] - 0s 3ms/step - loss: 533.0223 - mse: 533.0223 - mae: 17.6115 - val_loss: 204.1665 - val_mse: 204.1665 - val_mae: 11.0042\n",
            "Epoch 143/500\n",
            "77/77 [==============================] - 0s 3ms/step - loss: 560.3270 - mse: 560.3270 - mae: 17.8616 - val_loss: 207.3274 - val_mse: 207.3274 - val_mae: 11.1185\n",
            "Epoch 144/500\n",
            "77/77 [==============================] - 0s 3ms/step - loss: 544.0532 - mse: 544.0532 - mae: 17.6021 - val_loss: 199.4551 - val_mse: 199.4551 - val_mae: 10.9147\n",
            "Epoch 145/500\n",
            "77/77 [==============================] - 0s 3ms/step - loss: 531.5936 - mse: 531.5936 - mae: 17.3653 - val_loss: 209.3500 - val_mse: 209.3500 - val_mae: 10.9717\n",
            "Epoch 146/500\n",
            "77/77 [==============================] - 0s 3ms/step - loss: 545.8685 - mse: 545.8685 - mae: 17.6309 - val_loss: 222.2418 - val_mse: 222.2418 - val_mae: 11.3276\n",
            "Epoch 147/500\n",
            "77/77 [==============================] - 0s 3ms/step - loss: 524.5684 - mse: 524.5684 - mae: 17.3556 - val_loss: 198.3909 - val_mse: 198.3909 - val_mae: 10.7217\n",
            "Epoch 148/500\n",
            "77/77 [==============================] - 0s 4ms/step - loss: 545.0007 - mse: 545.0007 - mae: 17.6700 - val_loss: 231.7062 - val_mse: 231.7062 - val_mae: 11.7065\n",
            "Epoch 149/500\n",
            "77/77 [==============================] - 0s 3ms/step - loss: 519.7230 - mse: 519.7230 - mae: 17.2482 - val_loss: 224.6285 - val_mse: 224.6285 - val_mae: 11.6770\n",
            "Epoch 150/500\n",
            "77/77 [==============================] - 0s 3ms/step - loss: 521.2714 - mse: 521.2714 - mae: 17.2526 - val_loss: 198.2666 - val_mse: 198.2666 - val_mae: 10.6148\n",
            "Epoch 151/500\n",
            "77/77 [==============================] - 0s 3ms/step - loss: 540.4326 - mse: 540.4326 - mae: 17.5836 - val_loss: 188.0445 - val_mse: 188.0445 - val_mae: 10.5450\n",
            "Epoch 152/500\n",
            "77/77 [==============================] - 0s 3ms/step - loss: 556.4356 - mse: 556.4356 - mae: 17.8603 - val_loss: 193.2906 - val_mse: 193.2906 - val_mae: 10.7145\n",
            "Epoch 153/500\n",
            "77/77 [==============================] - 0s 3ms/step - loss: 516.4282 - mse: 516.4282 - mae: 17.2018 - val_loss: 208.1270 - val_mse: 208.1270 - val_mae: 11.1224\n",
            "Epoch 154/500\n",
            "77/77 [==============================] - 0s 3ms/step - loss: 527.5328 - mse: 527.5328 - mae: 17.6444 - val_loss: 191.6662 - val_mse: 191.6662 - val_mae: 10.4577\n",
            "Epoch 155/500\n",
            "77/77 [==============================] - 0s 3ms/step - loss: 517.7727 - mse: 517.7727 - mae: 17.2697 - val_loss: 186.0015 - val_mse: 186.0015 - val_mae: 10.4927\n",
            "Epoch 156/500\n",
            "77/77 [==============================] - 0s 3ms/step - loss: 539.1007 - mse: 539.1007 - mae: 17.6845 - val_loss: 193.4480 - val_mse: 193.4480 - val_mae: 10.5320\n",
            "Epoch 157/500\n",
            "77/77 [==============================] - 0s 3ms/step - loss: 532.1136 - mse: 532.1136 - mae: 17.4655 - val_loss: 183.5671 - val_mse: 183.5671 - val_mae: 10.5305\n",
            "Epoch 158/500\n",
            "77/77 [==============================] - 0s 3ms/step - loss: 528.1210 - mse: 528.1210 - mae: 17.3670 - val_loss: 196.7329 - val_mse: 196.7329 - val_mae: 10.6312\n",
            "Epoch 159/500\n",
            "77/77 [==============================] - 0s 3ms/step - loss: 533.2557 - mse: 533.2557 - mae: 17.5280 - val_loss: 230.4439 - val_mse: 230.4439 - val_mae: 11.6350\n",
            "Epoch 160/500\n",
            "77/77 [==============================] - 0s 4ms/step - loss: 537.6173 - mse: 537.6173 - mae: 17.6249 - val_loss: 208.6080 - val_mse: 208.6080 - val_mae: 11.0023\n",
            "Epoch 161/500\n",
            "77/77 [==============================] - 0s 3ms/step - loss: 530.5901 - mse: 530.5901 - mae: 17.4321 - val_loss: 201.3368 - val_mse: 201.3368 - val_mae: 10.9120\n",
            "Epoch 162/500\n",
            "77/77 [==============================] - 0s 3ms/step - loss: 518.2607 - mse: 518.2607 - mae: 17.2966 - val_loss: 208.4006 - val_mse: 208.4006 - val_mae: 11.2777\n",
            "Epoch 163/500\n",
            "77/77 [==============================] - 0s 3ms/step - loss: 554.2479 - mse: 554.2479 - mae: 17.8942 - val_loss: 213.8787 - val_mse: 213.8787 - val_mae: 11.1765\n",
            "Epoch 164/500\n",
            "77/77 [==============================] - 0s 3ms/step - loss: 509.6702 - mse: 509.6702 - mae: 17.2093 - val_loss: 209.0131 - val_mse: 209.0131 - val_mae: 11.0766\n",
            "Epoch 165/500\n",
            "77/77 [==============================] - 0s 3ms/step - loss: 535.7216 - mse: 535.7216 - mae: 17.4458 - val_loss: 196.0506 - val_mse: 196.0506 - val_mae: 10.7202\n",
            "Epoch 166/500\n",
            "77/77 [==============================] - 0s 3ms/step - loss: 523.2095 - mse: 523.2095 - mae: 17.3719 - val_loss: 184.6805 - val_mse: 184.6805 - val_mae: 10.4395\n",
            "Epoch 167/500\n",
            "77/77 [==============================] - 0s 3ms/step - loss: 494.4088 - mse: 494.4088 - mae: 16.8897 - val_loss: 194.9032 - val_mse: 194.9032 - val_mae: 10.5390\n",
            "Epoch 168/500\n",
            "77/77 [==============================] - 0s 3ms/step - loss: 507.5860 - mse: 507.5860 - mae: 17.0318 - val_loss: 200.8338 - val_mse: 200.8338 - val_mae: 10.8810\n",
            "Epoch 169/500\n",
            "77/77 [==============================] - 0s 3ms/step - loss: 525.1066 - mse: 525.1066 - mae: 17.3350 - val_loss: 186.4872 - val_mse: 186.4872 - val_mae: 10.4009\n",
            "Epoch 170/500\n",
            "77/77 [==============================] - 0s 3ms/step - loss: 521.2819 - mse: 521.2819 - mae: 17.0781 - val_loss: 206.1797 - val_mse: 206.1797 - val_mae: 11.3194\n",
            "Epoch 171/500\n",
            "77/77 [==============================] - 0s 3ms/step - loss: 524.3242 - mse: 524.3242 - mae: 17.3352 - val_loss: 185.8209 - val_mse: 185.8209 - val_mae: 10.3275\n",
            "Epoch 172/500\n",
            "77/77 [==============================] - 0s 4ms/step - loss: 524.9747 - mse: 524.9747 - mae: 17.2821 - val_loss: 181.4702 - val_mse: 181.4702 - val_mae: 10.2711\n",
            "Epoch 173/500\n",
            "77/77 [==============================] - 0s 3ms/step - loss: 512.6715 - mse: 512.6715 - mae: 17.0499 - val_loss: 184.7943 - val_mse: 184.7943 - val_mae: 10.4076\n",
            "Epoch 174/500\n",
            "77/77 [==============================] - 0s 3ms/step - loss: 506.1682 - mse: 506.1682 - mae: 16.9827 - val_loss: 204.0934 - val_mse: 204.0934 - val_mae: 10.9690\n",
            "Epoch 175/500\n",
            "77/77 [==============================] - 0s 3ms/step - loss: 496.6149 - mse: 496.6149 - mae: 16.8627 - val_loss: 206.3005 - val_mse: 206.3005 - val_mae: 11.1063\n",
            "Epoch 176/500\n",
            "77/77 [==============================] - 0s 3ms/step - loss: 504.4403 - mse: 504.4403 - mae: 17.1697 - val_loss: 183.1029 - val_mse: 183.1030 - val_mae: 10.5240\n",
            "Epoch 177/500\n",
            "77/77 [==============================] - 0s 3ms/step - loss: 499.4270 - mse: 499.4270 - mae: 16.8400 - val_loss: 203.8008 - val_mse: 203.8008 - val_mae: 11.2664\n",
            "Epoch 178/500\n",
            "77/77 [==============================] - 0s 3ms/step - loss: 525.4507 - mse: 525.4507 - mae: 17.3345 - val_loss: 180.6016 - val_mse: 180.6016 - val_mae: 10.4111\n",
            "Epoch 179/500\n",
            "77/77 [==============================] - 0s 3ms/step - loss: 534.8308 - mse: 534.8308 - mae: 17.3318 - val_loss: 207.9933 - val_mse: 207.9933 - val_mae: 10.9293\n",
            "Epoch 180/500\n",
            "77/77 [==============================] - 0s 4ms/step - loss: 514.0815 - mse: 514.0815 - mae: 17.1304 - val_loss: 177.8683 - val_mse: 177.8683 - val_mae: 10.2129\n",
            "Epoch 181/500\n",
            "77/77 [==============================] - 0s 3ms/step - loss: 508.6620 - mse: 508.6620 - mae: 16.9603 - val_loss: 205.9518 - val_mse: 205.9518 - val_mae: 11.1093\n",
            "Epoch 182/500\n",
            "77/77 [==============================] - 0s 3ms/step - loss: 506.5885 - mse: 506.5885 - mae: 16.9240 - val_loss: 191.9547 - val_mse: 191.9547 - val_mae: 10.6587\n",
            "Epoch 183/500\n",
            "77/77 [==============================] - 0s 4ms/step - loss: 501.0519 - mse: 501.0519 - mae: 16.7996 - val_loss: 186.5202 - val_mse: 186.5202 - val_mae: 10.3821\n",
            "Epoch 184/500\n",
            "77/77 [==============================] - 0s 3ms/step - loss: 499.0673 - mse: 499.0673 - mae: 16.9496 - val_loss: 185.2731 - val_mse: 185.2731 - val_mae: 10.3497\n",
            "Epoch 185/500\n",
            "77/77 [==============================] - 0s 3ms/step - loss: 516.3339 - mse: 516.3339 - mae: 17.2203 - val_loss: 182.5022 - val_mse: 182.5022 - val_mae: 10.1046\n",
            "Epoch 186/500\n",
            "77/77 [==============================] - 0s 3ms/step - loss: 524.1818 - mse: 524.1818 - mae: 17.1367 - val_loss: 202.7571 - val_mse: 202.7571 - val_mae: 10.9403\n",
            "Epoch 187/500\n",
            "77/77 [==============================] - 0s 3ms/step - loss: 519.3831 - mse: 519.3831 - mae: 17.2371 - val_loss: 193.1964 - val_mse: 193.1964 - val_mae: 10.7381\n",
            "Epoch 188/500\n",
            "77/77 [==============================] - 0s 4ms/step - loss: 525.7237 - mse: 525.7237 - mae: 17.3893 - val_loss: 186.1676 - val_mse: 186.1676 - val_mae: 10.4326\n",
            "Epoch 189/500\n",
            "77/77 [==============================] - 0s 3ms/step - loss: 490.7323 - mse: 490.7323 - mae: 16.8413 - val_loss: 220.0514 - val_mse: 220.0514 - val_mae: 11.5972\n",
            "Epoch 190/500\n",
            "77/77 [==============================] - 0s 3ms/step - loss: 538.7791 - mse: 538.7791 - mae: 17.4984 - val_loss: 184.8106 - val_mse: 184.8106 - val_mae: 10.4617\n",
            "Epoch 191/500\n",
            "77/77 [==============================] - 0s 3ms/step - loss: 489.5142 - mse: 489.5142 - mae: 16.7578 - val_loss: 179.3630 - val_mse: 179.3630 - val_mae: 10.0957\n",
            "Epoch 192/500\n",
            "77/77 [==============================] - 0s 4ms/step - loss: 510.5460 - mse: 510.5460 - mae: 17.0011 - val_loss: 194.7474 - val_mse: 194.7474 - val_mae: 10.4629\n",
            "Epoch 193/500\n",
            "77/77 [==============================] - 0s 3ms/step - loss: 499.9762 - mse: 499.9762 - mae: 16.6434 - val_loss: 179.0576 - val_mse: 179.0576 - val_mae: 10.2402\n",
            "Epoch 194/500\n",
            "77/77 [==============================] - 0s 3ms/step - loss: 495.6551 - mse: 495.6551 - mae: 16.7878 - val_loss: 195.2815 - val_mse: 195.2815 - val_mae: 10.7390\n",
            "Epoch 195/500\n",
            "77/77 [==============================] - 0s 3ms/step - loss: 510.6135 - mse: 510.6135 - mae: 17.0152 - val_loss: 171.8722 - val_mse: 171.8722 - val_mae: 10.0090\n",
            "Epoch 196/500\n",
            "77/77 [==============================] - 0s 3ms/step - loss: 493.5311 - mse: 493.5311 - mae: 16.7403 - val_loss: 192.4563 - val_mse: 192.4563 - val_mae: 10.5839\n",
            "Epoch 197/500\n",
            "77/77 [==============================] - 0s 3ms/step - loss: 500.1606 - mse: 500.1606 - mae: 17.0562 - val_loss: 187.9462 - val_mse: 187.9462 - val_mae: 10.6894\n",
            "Epoch 198/500\n",
            "77/77 [==============================] - 0s 3ms/step - loss: 504.3017 - mse: 504.3017 - mae: 16.9441 - val_loss: 182.6880 - val_mse: 182.6880 - val_mae: 10.3722\n",
            "Epoch 199/500\n",
            "77/77 [==============================] - 0s 3ms/step - loss: 498.2117 - mse: 498.2117 - mae: 16.9449 - val_loss: 211.7169 - val_mse: 211.7169 - val_mae: 11.4278\n",
            "Epoch 200/500\n",
            "77/77 [==============================] - 0s 4ms/step - loss: 490.8185 - mse: 490.8185 - mae: 16.7804 - val_loss: 176.2824 - val_mse: 176.2824 - val_mae: 10.2029\n",
            "Epoch 201/500\n",
            "77/77 [==============================] - 0s 3ms/step - loss: 500.3399 - mse: 500.3399 - mae: 16.8135 - val_loss: 185.9939 - val_mse: 185.9939 - val_mae: 10.4188\n",
            "Epoch 202/500\n",
            "77/77 [==============================] - 0s 3ms/step - loss: 500.0088 - mse: 500.0088 - mae: 16.7916 - val_loss: 174.7148 - val_mse: 174.7148 - val_mae: 10.0797\n",
            "Epoch 203/500\n",
            "77/77 [==============================] - 0s 3ms/step - loss: 504.0754 - mse: 504.0754 - mae: 16.9026 - val_loss: 165.2021 - val_mse: 165.2021 - val_mae: 9.7731\n",
            "Epoch 204/500\n",
            "77/77 [==============================] - 0s 3ms/step - loss: 499.9958 - mse: 499.9958 - mae: 16.8096 - val_loss: 183.7591 - val_mse: 183.7591 - val_mae: 10.3268\n",
            "Epoch 205/500\n",
            "77/77 [==============================] - 0s 3ms/step - loss: 500.5353 - mse: 500.5353 - mae: 16.6857 - val_loss: 215.2030 - val_mse: 215.2030 - val_mae: 11.4222\n",
            "Epoch 206/500\n",
            "77/77 [==============================] - 0s 3ms/step - loss: 496.4223 - mse: 496.4223 - mae: 17.0376 - val_loss: 210.2994 - val_mse: 210.2995 - val_mae: 11.2592\n",
            "Epoch 207/500\n",
            "77/77 [==============================] - 0s 4ms/step - loss: 494.7804 - mse: 494.7804 - mae: 16.8758 - val_loss: 167.6248 - val_mse: 167.6248 - val_mae: 9.9398\n",
            "Epoch 208/500\n",
            "77/77 [==============================] - 0s 3ms/step - loss: 496.7897 - mse: 496.7897 - mae: 16.7771 - val_loss: 173.3264 - val_mse: 173.3264 - val_mae: 10.1108\n",
            "Epoch 209/500\n",
            "77/77 [==============================] - 0s 3ms/step - loss: 467.1384 - mse: 467.1384 - mae: 16.3526 - val_loss: 187.9064 - val_mse: 187.9064 - val_mae: 10.6603\n",
            "Epoch 210/500\n",
            "77/77 [==============================] - 0s 3ms/step - loss: 486.4533 - mse: 486.4533 - mae: 16.5565 - val_loss: 177.1126 - val_mse: 177.1126 - val_mae: 9.9503\n",
            "Epoch 211/500\n",
            "77/77 [==============================] - 0s 4ms/step - loss: 511.8842 - mse: 511.8842 - mae: 16.8621 - val_loss: 180.7566 - val_mse: 180.7566 - val_mae: 10.4699\n",
            "Epoch 212/500\n",
            "77/77 [==============================] - 0s 3ms/step - loss: 505.2442 - mse: 505.2442 - mae: 16.8350 - val_loss: 213.7833 - val_mse: 213.7833 - val_mae: 11.6179\n",
            "Epoch 213/500\n",
            "77/77 [==============================] - 0s 4ms/step - loss: 483.1177 - mse: 483.1177 - mae: 16.6677 - val_loss: 207.7227 - val_mse: 207.7227 - val_mae: 11.1474\n",
            "Epoch 214/500\n",
            "77/77 [==============================] - 0s 3ms/step - loss: 513.8766 - mse: 513.8766 - mae: 16.9470 - val_loss: 167.4268 - val_mse: 167.4268 - val_mae: 9.7842\n",
            "Epoch 215/500\n",
            "77/77 [==============================] - 0s 4ms/step - loss: 491.0380 - mse: 491.0380 - mae: 16.7675 - val_loss: 170.4724 - val_mse: 170.4724 - val_mae: 9.9830\n",
            "Epoch 216/500\n",
            "77/77 [==============================] - 0s 4ms/step - loss: 477.2503 - mse: 477.2503 - mae: 16.5322 - val_loss: 188.8310 - val_mse: 188.8310 - val_mae: 10.5322\n",
            "Epoch 217/500\n",
            "77/77 [==============================] - 0s 3ms/step - loss: 491.7354 - mse: 491.7354 - mae: 16.5655 - val_loss: 198.5657 - val_mse: 198.5657 - val_mae: 10.9028\n",
            "Epoch 218/500\n",
            "77/77 [==============================] - 0s 3ms/step - loss: 504.1125 - mse: 504.1125 - mae: 16.8957 - val_loss: 175.2168 - val_mse: 175.2168 - val_mae: 9.9000\n",
            "Epoch 219/500\n",
            "77/77 [==============================] - 0s 3ms/step - loss: 483.9402 - mse: 483.9402 - mae: 16.7478 - val_loss: 182.8605 - val_mse: 182.8605 - val_mae: 10.4233\n",
            "Epoch 220/500\n",
            "77/77 [==============================] - 0s 4ms/step - loss: 473.7312 - mse: 473.7312 - mae: 16.4636 - val_loss: 177.4033 - val_mse: 177.4033 - val_mae: 10.1500\n",
            "Epoch 221/500\n",
            "77/77 [==============================] - 0s 4ms/step - loss: 482.4682 - mse: 482.4682 - mae: 16.5382 - val_loss: 170.4673 - val_mse: 170.4673 - val_mae: 9.9986\n",
            "Epoch 222/500\n",
            "77/77 [==============================] - 0s 3ms/step - loss: 476.9765 - mse: 476.9765 - mae: 16.5974 - val_loss: 162.2245 - val_mse: 162.2245 - val_mae: 9.8164\n",
            "Epoch 223/500\n",
            "77/77 [==============================] - 0s 4ms/step - loss: 494.8951 - mse: 494.8951 - mae: 16.6101 - val_loss: 180.0093 - val_mse: 180.0093 - val_mae: 10.5871\n",
            "Epoch 224/500\n",
            "77/77 [==============================] - 0s 3ms/step - loss: 469.7995 - mse: 469.7995 - mae: 16.2695 - val_loss: 182.2745 - val_mse: 182.2745 - val_mae: 10.3588\n",
            "Epoch 225/500\n",
            "77/77 [==============================] - 0s 4ms/step - loss: 494.3794 - mse: 494.3794 - mae: 16.5419 - val_loss: 161.9668 - val_mse: 161.9668 - val_mae: 9.5647\n",
            "Epoch 226/500\n",
            "77/77 [==============================] - 0s 3ms/step - loss: 467.3636 - mse: 467.3636 - mae: 16.3089 - val_loss: 180.8645 - val_mse: 180.8645 - val_mae: 10.1877\n",
            "Epoch 227/500\n",
            "77/77 [==============================] - 0s 3ms/step - loss: 468.0498 - mse: 468.0498 - mae: 16.2953 - val_loss: 189.2367 - val_mse: 189.2367 - val_mae: 10.6431\n",
            "Epoch 228/500\n",
            "77/77 [==============================] - 0s 3ms/step - loss: 510.5626 - mse: 510.5626 - mae: 17.0316 - val_loss: 187.7204 - val_mse: 187.7204 - val_mae: 10.7962\n",
            "Epoch 229/500\n",
            "77/77 [==============================] - 0s 3ms/step - loss: 489.4053 - mse: 489.4052 - mae: 16.5815 - val_loss: 170.8385 - val_mse: 170.8385 - val_mae: 9.9375\n",
            "Epoch 230/500\n",
            "77/77 [==============================] - 0s 3ms/step - loss: 485.2227 - mse: 485.2227 - mae: 16.6102 - val_loss: 176.4257 - val_mse: 176.4257 - val_mae: 10.3048\n",
            "Epoch 231/500\n",
            "77/77 [==============================] - 0s 3ms/step - loss: 468.4298 - mse: 468.4298 - mae: 16.3522 - val_loss: 184.8864 - val_mse: 184.8864 - val_mae: 10.5755\n",
            "Epoch 232/500\n",
            "77/77 [==============================] - 0s 4ms/step - loss: 464.0245 - mse: 464.0245 - mae: 16.3745 - val_loss: 189.9380 - val_mse: 189.9380 - val_mae: 10.8670\n",
            "Epoch 233/500\n",
            "77/77 [==============================] - 0s 3ms/step - loss: 460.4962 - mse: 460.4962 - mae: 16.3756 - val_loss: 181.1458 - val_mse: 181.1458 - val_mae: 10.4604\n",
            "Epoch 234/500\n",
            "77/77 [==============================] - 0s 3ms/step - loss: 456.6243 - mse: 456.6243 - mae: 16.2910 - val_loss: 176.0804 - val_mse: 176.0804 - val_mae: 10.1081\n",
            "Epoch 235/500\n",
            "77/77 [==============================] - 0s 3ms/step - loss: 450.4813 - mse: 450.4813 - mae: 16.0473 - val_loss: 184.2112 - val_mse: 184.2112 - val_mae: 10.3423\n",
            "Epoch 236/500\n",
            "77/77 [==============================] - 0s 3ms/step - loss: 500.7247 - mse: 500.7247 - mae: 16.9179 - val_loss: 172.8681 - val_mse: 172.8681 - val_mae: 10.2099\n",
            "Epoch 237/500\n",
            "77/77 [==============================] - 0s 4ms/step - loss: 490.7588 - mse: 490.7588 - mae: 16.7536 - val_loss: 172.2148 - val_mse: 172.2148 - val_mae: 9.9198\n",
            "Epoch 238/500\n",
            "77/77 [==============================] - 0s 4ms/step - loss: 488.5211 - mse: 488.5211 - mae: 16.5896 - val_loss: 158.6448 - val_mse: 158.6448 - val_mae: 9.4134\n",
            "Epoch 239/500\n",
            "77/77 [==============================] - 0s 3ms/step - loss: 477.9984 - mse: 477.9984 - mae: 16.4069 - val_loss: 230.1747 - val_mse: 230.1747 - val_mae: 11.9797\n",
            "Epoch 240/500\n",
            "77/77 [==============================] - 0s 3ms/step - loss: 499.9051 - mse: 499.9051 - mae: 16.8714 - val_loss: 175.1397 - val_mse: 175.1397 - val_mae: 10.2030\n",
            "Epoch 241/500\n",
            "77/77 [==============================] - 0s 3ms/step - loss: 467.0123 - mse: 467.0123 - mae: 16.2737 - val_loss: 162.9395 - val_mse: 162.9395 - val_mae: 9.7027\n",
            "Epoch 242/500\n",
            "77/77 [==============================] - 0s 4ms/step - loss: 477.6343 - mse: 477.6343 - mae: 16.6488 - val_loss: 171.3371 - val_mse: 171.3371 - val_mae: 9.8592\n",
            "Epoch 243/500\n",
            "77/77 [==============================] - 0s 3ms/step - loss: 472.8709 - mse: 472.8708 - mae: 16.2843 - val_loss: 169.9201 - val_mse: 169.9201 - val_mae: 10.0352\n",
            "Epoch 244/500\n",
            "77/77 [==============================] - 0s 3ms/step - loss: 480.6926 - mse: 480.6926 - mae: 16.3566 - val_loss: 166.7503 - val_mse: 166.7503 - val_mae: 9.9495\n",
            "Epoch 245/500\n",
            "77/77 [==============================] - 0s 3ms/step - loss: 481.9759 - mse: 481.9759 - mae: 16.4567 - val_loss: 165.7234 - val_mse: 165.7235 - val_mae: 9.7871\n",
            "Epoch 246/500\n",
            "77/77 [==============================] - 0s 3ms/step - loss: 459.3661 - mse: 459.3661 - mae: 16.1497 - val_loss: 167.7554 - val_mse: 167.7554 - val_mae: 9.9291\n",
            "Epoch 247/500\n",
            "77/77 [==============================] - 0s 3ms/step - loss: 464.5846 - mse: 464.5846 - mae: 16.1559 - val_loss: 159.7571 - val_mse: 159.7571 - val_mae: 9.5835\n",
            "Epoch 248/500\n",
            "77/77 [==============================] - 0s 3ms/step - loss: 450.7861 - mse: 450.7861 - mae: 16.0092 - val_loss: 156.5760 - val_mse: 156.5760 - val_mae: 9.5203\n",
            "Epoch 249/500\n",
            "77/77 [==============================] - 0s 4ms/step - loss: 473.2737 - mse: 473.2737 - mae: 16.3736 - val_loss: 169.4576 - val_mse: 169.4576 - val_mae: 10.0528\n",
            "Epoch 250/500\n",
            "77/77 [==============================] - 0s 4ms/step - loss: 462.6992 - mse: 462.6992 - mae: 16.2395 - val_loss: 170.9127 - val_mse: 170.9127 - val_mae: 10.0562\n",
            "Epoch 251/500\n",
            "77/77 [==============================] - 0s 3ms/step - loss: 481.5341 - mse: 481.5341 - mae: 16.5506 - val_loss: 160.7103 - val_mse: 160.7102 - val_mae: 9.6476\n",
            "Epoch 252/500\n",
            "77/77 [==============================] - 0s 4ms/step - loss: 480.7704 - mse: 480.7704 - mae: 16.4542 - val_loss: 203.4182 - val_mse: 203.4182 - val_mae: 11.2501\n",
            "Epoch 253/500\n",
            "77/77 [==============================] - 0s 3ms/step - loss: 474.1225 - mse: 474.1226 - mae: 16.3158 - val_loss: 188.7168 - val_mse: 188.7169 - val_mae: 10.5218\n",
            "Epoch 254/500\n",
            "77/77 [==============================] - 0s 3ms/step - loss: 465.8183 - mse: 465.8183 - mae: 16.2088 - val_loss: 174.6407 - val_mse: 174.6407 - val_mae: 10.0933\n",
            "Epoch 255/500\n",
            "77/77 [==============================] - 0s 3ms/step - loss: 458.5206 - mse: 458.5206 - mae: 15.9887 - val_loss: 157.8503 - val_mse: 157.8503 - val_mae: 9.5645\n",
            "Epoch 256/500\n",
            "77/77 [==============================] - 0s 3ms/step - loss: 487.6142 - mse: 487.6142 - mae: 16.5929 - val_loss: 163.2662 - val_mse: 163.2662 - val_mae: 9.8037\n",
            "Epoch 257/500\n",
            "77/77 [==============================] - 0s 3ms/step - loss: 477.1269 - mse: 477.1269 - mae: 16.4090 - val_loss: 162.7302 - val_mse: 162.7302 - val_mae: 9.8721\n",
            "Epoch 258/500\n",
            "77/77 [==============================] - 0s 4ms/step - loss: 448.3833 - mse: 448.3833 - mae: 15.9703 - val_loss: 156.2074 - val_mse: 156.2074 - val_mae: 9.5550\n",
            "Epoch 259/500\n",
            "77/77 [==============================] - 0s 4ms/step - loss: 474.5089 - mse: 474.5089 - mae: 16.4903 - val_loss: 222.4463 - val_mse: 222.4463 - val_mae: 11.6828\n",
            "Epoch 260/500\n",
            "77/77 [==============================] - 0s 4ms/step - loss: 473.7942 - mse: 473.7942 - mae: 16.3989 - val_loss: 181.7286 - val_mse: 181.7286 - val_mae: 10.4169\n",
            "Epoch 261/500\n",
            "77/77 [==============================] - 0s 3ms/step - loss: 450.3152 - mse: 450.3152 - mae: 15.9843 - val_loss: 175.6461 - val_mse: 175.6461 - val_mae: 10.2391\n",
            "Epoch 262/500\n",
            "77/77 [==============================] - 0s 3ms/step - loss: 469.0822 - mse: 469.0822 - mae: 16.2093 - val_loss: 193.2796 - val_mse: 193.2796 - val_mae: 10.5787\n",
            "Epoch 263/500\n",
            "77/77 [==============================] - 0s 4ms/step - loss: 473.0268 - mse: 473.0268 - mae: 16.2791 - val_loss: 160.4837 - val_mse: 160.4837 - val_mae: 9.7841\n",
            "Epoch 264/500\n",
            "77/77 [==============================] - 0s 3ms/step - loss: 454.0331 - mse: 454.0331 - mae: 15.8847 - val_loss: 163.3269 - val_mse: 163.3269 - val_mae: 9.9652\n",
            "Epoch 265/500\n",
            "77/77 [==============================] - 0s 3ms/step - loss: 466.7208 - mse: 466.7208 - mae: 16.2533 - val_loss: 159.6985 - val_mse: 159.6985 - val_mae: 9.7652\n",
            "Epoch 266/500\n",
            "77/77 [==============================] - 0s 4ms/step - loss: 450.4630 - mse: 450.4630 - mae: 15.9925 - val_loss: 167.3443 - val_mse: 167.3443 - val_mae: 10.0338\n",
            "Epoch 267/500\n",
            "77/77 [==============================] - 0s 4ms/step - loss: 455.7935 - mse: 455.7935 - mae: 15.9470 - val_loss: 170.2741 - val_mse: 170.2741 - val_mae: 9.8507\n",
            "Epoch 268/500\n",
            "77/77 [==============================] - 0s 3ms/step - loss: 466.5602 - mse: 466.5602 - mae: 16.1449 - val_loss: 179.6243 - val_mse: 179.6243 - val_mae: 10.0068\n",
            "Epoch 269/500\n",
            "77/77 [==============================] - 0s 3ms/step - loss: 444.1968 - mse: 444.1968 - mae: 15.8956 - val_loss: 155.5603 - val_mse: 155.5603 - val_mae: 9.4311\n",
            "Epoch 270/500\n",
            "77/77 [==============================] - 0s 4ms/step - loss: 446.6025 - mse: 446.6025 - mae: 15.9898 - val_loss: 160.6870 - val_mse: 160.6870 - val_mae: 9.7831\n",
            "Epoch 271/500\n",
            "77/77 [==============================] - 0s 3ms/step - loss: 449.3345 - mse: 449.3345 - mae: 15.9752 - val_loss: 155.7601 - val_mse: 155.7601 - val_mae: 9.6731\n",
            "Epoch 272/500\n",
            "77/77 [==============================] - 0s 4ms/step - loss: 437.9843 - mse: 437.9843 - mae: 15.8313 - val_loss: 157.7176 - val_mse: 157.7176 - val_mae: 9.4849\n",
            "Epoch 273/500\n",
            "77/77 [==============================] - 0s 3ms/step - loss: 469.4404 - mse: 469.4404 - mae: 16.1818 - val_loss: 164.8372 - val_mse: 164.8372 - val_mae: 9.8560\n",
            "Epoch 274/500\n",
            "77/77 [==============================] - 0s 4ms/step - loss: 488.5657 - mse: 488.5657 - mae: 16.6836 - val_loss: 164.7380 - val_mse: 164.7380 - val_mae: 9.9757\n",
            "Epoch 275/500\n",
            "77/77 [==============================] - 0s 3ms/step - loss: 447.7430 - mse: 447.7430 - mae: 15.8926 - val_loss: 164.0346 - val_mse: 164.0346 - val_mae: 9.8816\n",
            "Epoch 276/500\n",
            "77/77 [==============================] - 0s 3ms/step - loss: 439.5982 - mse: 439.5982 - mae: 15.7749 - val_loss: 165.0674 - val_mse: 165.0674 - val_mae: 9.6158\n",
            "Epoch 277/500\n",
            "77/77 [==============================] - 0s 4ms/step - loss: 456.7326 - mse: 456.7326 - mae: 16.0292 - val_loss: 156.6104 - val_mse: 156.6104 - val_mae: 9.6487\n",
            "Epoch 278/500\n",
            "77/77 [==============================] - 0s 4ms/step - loss: 436.5809 - mse: 436.5809 - mae: 15.6092 - val_loss: 153.0462 - val_mse: 153.0462 - val_mae: 9.3920\n",
            "Epoch 279/500\n",
            "77/77 [==============================] - 0s 3ms/step - loss: 470.7274 - mse: 470.7274 - mae: 16.2486 - val_loss: 166.3908 - val_mse: 166.3908 - val_mae: 9.6855\n",
            "Epoch 280/500\n",
            "77/77 [==============================] - 0s 4ms/step - loss: 449.8812 - mse: 449.8812 - mae: 15.8209 - val_loss: 160.9403 - val_mse: 160.9403 - val_mae: 9.4367\n",
            "Epoch 281/500\n",
            "77/77 [==============================] - 0s 3ms/step - loss: 439.2667 - mse: 439.2667 - mae: 15.8784 - val_loss: 169.6185 - val_mse: 169.6185 - val_mae: 10.0320\n",
            "Epoch 282/500\n",
            "77/77 [==============================] - 0s 4ms/step - loss: 470.0404 - mse: 470.0404 - mae: 16.2763 - val_loss: 147.6563 - val_mse: 147.6563 - val_mae: 9.2451\n",
            "Epoch 283/500\n",
            "77/77 [==============================] - 0s 4ms/step - loss: 464.7519 - mse: 464.7519 - mae: 16.1246 - val_loss: 164.6237 - val_mse: 164.6237 - val_mae: 9.8784\n",
            "Epoch 284/500\n",
            "77/77 [==============================] - 0s 4ms/step - loss: 445.8682 - mse: 445.8682 - mae: 15.9243 - val_loss: 165.9029 - val_mse: 165.9029 - val_mae: 10.0155\n",
            "Epoch 285/500\n",
            "77/77 [==============================] - 0s 4ms/step - loss: 457.7542 - mse: 457.7542 - mae: 16.1080 - val_loss: 155.9529 - val_mse: 155.9529 - val_mae: 9.6382\n",
            "Epoch 286/500\n",
            "77/77 [==============================] - 0s 3ms/step - loss: 445.8245 - mse: 445.8245 - mae: 16.0673 - val_loss: 166.7781 - val_mse: 166.7781 - val_mae: 9.7696\n",
            "Epoch 287/500\n",
            "77/77 [==============================] - 0s 4ms/step - loss: 454.8175 - mse: 454.8175 - mae: 15.9887 - val_loss: 153.7060 - val_mse: 153.7060 - val_mae: 9.3947\n",
            "Epoch 288/500\n",
            "77/77 [==============================] - 0s 3ms/step - loss: 456.9296 - mse: 456.9296 - mae: 15.9872 - val_loss: 164.8271 - val_mse: 164.8271 - val_mae: 9.7364\n",
            "Epoch 289/500\n",
            "77/77 [==============================] - 0s 4ms/step - loss: 468.7745 - mse: 468.7745 - mae: 16.0937 - val_loss: 173.4966 - val_mse: 173.4966 - val_mae: 10.0978\n",
            "Epoch 290/500\n",
            "77/77 [==============================] - 0s 4ms/step - loss: 433.8854 - mse: 433.8854 - mae: 15.6318 - val_loss: 158.3729 - val_mse: 158.3729 - val_mae: 9.5949\n",
            "Epoch 291/500\n",
            "77/77 [==============================] - 0s 3ms/step - loss: 463.0863 - mse: 463.0863 - mae: 16.3050 - val_loss: 156.9891 - val_mse: 156.9891 - val_mae: 9.6267\n",
            "Epoch 292/500\n",
            "77/77 [==============================] - 0s 3ms/step - loss: 451.4930 - mse: 451.4930 - mae: 15.9122 - val_loss: 173.3276 - val_mse: 173.3276 - val_mae: 10.0498\n",
            "Epoch 293/500\n",
            "77/77 [==============================] - 0s 3ms/step - loss: 455.8511 - mse: 455.8511 - mae: 16.0649 - val_loss: 157.1491 - val_mse: 157.1491 - val_mae: 9.6098\n",
            "Epoch 294/500\n",
            "77/77 [==============================] - 0s 3ms/step - loss: 447.2197 - mse: 447.2197 - mae: 15.9846 - val_loss: 165.9041 - val_mse: 165.9041 - val_mae: 9.4927\n",
            "Epoch 295/500\n",
            "77/77 [==============================] - 0s 3ms/step - loss: 443.1304 - mse: 443.1304 - mae: 15.8853 - val_loss: 161.9593 - val_mse: 161.9593 - val_mae: 9.7244\n",
            "Epoch 296/500\n",
            "77/77 [==============================] - 0s 4ms/step - loss: 445.0651 - mse: 445.0651 - mae: 15.7537 - val_loss: 170.0111 - val_mse: 170.0111 - val_mae: 10.2536\n",
            "Epoch 297/500\n",
            "77/77 [==============================] - 0s 3ms/step - loss: 432.6305 - mse: 432.6305 - mae: 15.6134 - val_loss: 152.2853 - val_mse: 152.2853 - val_mae: 9.4722\n",
            "Epoch 298/500\n",
            "77/77 [==============================] - 0s 3ms/step - loss: 436.1921 - mse: 436.1921 - mae: 15.8385 - val_loss: 176.8501 - val_mse: 176.8501 - val_mae: 10.3275\n",
            "Epoch 299/500\n",
            "77/77 [==============================] - 0s 4ms/step - loss: 431.8092 - mse: 431.8092 - mae: 15.6626 - val_loss: 142.3535 - val_mse: 142.3535 - val_mae: 9.0407\n",
            "Epoch 300/500\n",
            "77/77 [==============================] - 0s 3ms/step - loss: 440.7513 - mse: 440.7513 - mae: 15.7204 - val_loss: 160.9603 - val_mse: 160.9603 - val_mae: 9.6851\n",
            "Epoch 301/500\n",
            "77/77 [==============================] - 0s 3ms/step - loss: 420.2184 - mse: 420.2184 - mae: 15.4693 - val_loss: 173.8046 - val_mse: 173.8046 - val_mae: 10.0909\n",
            "Epoch 302/500\n",
            "77/77 [==============================] - 0s 4ms/step - loss: 448.6932 - mse: 448.6932 - mae: 15.7873 - val_loss: 154.3415 - val_mse: 154.3415 - val_mae: 9.5212\n",
            "Epoch 303/500\n",
            "77/77 [==============================] - 0s 4ms/step - loss: 429.9231 - mse: 429.9231 - mae: 15.5509 - val_loss: 151.7720 - val_mse: 151.7720 - val_mae: 9.4376\n",
            "Epoch 304/500\n",
            "77/77 [==============================] - 0s 4ms/step - loss: 453.9785 - mse: 453.9785 - mae: 15.9857 - val_loss: 154.9487 - val_mse: 154.9487 - val_mae: 9.4653\n",
            "Epoch 305/500\n",
            "77/77 [==============================] - 0s 3ms/step - loss: 453.3087 - mse: 453.3087 - mae: 15.8733 - val_loss: 177.0500 - val_mse: 177.0500 - val_mae: 10.1746\n",
            "Epoch 306/500\n",
            "77/77 [==============================] - 0s 4ms/step - loss: 448.5869 - mse: 448.5869 - mae: 15.8964 - val_loss: 155.9457 - val_mse: 155.9457 - val_mae: 9.6260\n",
            "Epoch 307/500\n",
            "77/77 [==============================] - 0s 4ms/step - loss: 456.5485 - mse: 456.5485 - mae: 16.0597 - val_loss: 154.6454 - val_mse: 154.6454 - val_mae: 9.6323\n",
            "Epoch 308/500\n",
            "77/77 [==============================] - 0s 3ms/step - loss: 422.5161 - mse: 422.5161 - mae: 15.4899 - val_loss: 142.2300 - val_mse: 142.2300 - val_mae: 9.1413\n",
            "Epoch 309/500\n",
            "77/77 [==============================] - 0s 3ms/step - loss: 436.4276 - mse: 436.4276 - mae: 15.7050 - val_loss: 155.3780 - val_mse: 155.3780 - val_mae: 9.4543\n",
            "Epoch 310/500\n",
            "77/77 [==============================] - 0s 3ms/step - loss: 438.5864 - mse: 438.5864 - mae: 15.8398 - val_loss: 161.8236 - val_mse: 161.8236 - val_mae: 9.7081\n",
            "Epoch 311/500\n",
            "77/77 [==============================] - 0s 4ms/step - loss: 442.2608 - mse: 442.2608 - mae: 15.8873 - val_loss: 152.7240 - val_mse: 152.7240 - val_mae: 9.4846\n",
            "Epoch 312/500\n",
            "77/77 [==============================] - 0s 3ms/step - loss: 421.6910 - mse: 421.6910 - mae: 15.3895 - val_loss: 184.8973 - val_mse: 184.8973 - val_mae: 10.4353\n",
            "Epoch 313/500\n",
            "77/77 [==============================] - 0s 4ms/step - loss: 428.2386 - mse: 428.2386 - mae: 15.4819 - val_loss: 160.8102 - val_mse: 160.8102 - val_mae: 9.8873\n",
            "Epoch 314/500\n",
            "77/77 [==============================] - 0s 3ms/step - loss: 447.6902 - mse: 447.6902 - mae: 15.7336 - val_loss: 147.7401 - val_mse: 147.7401 - val_mae: 9.2043\n",
            "Epoch 315/500\n",
            "77/77 [==============================] - 0s 3ms/step - loss: 434.0807 - mse: 434.0807 - mae: 15.6846 - val_loss: 170.3061 - val_mse: 170.3061 - val_mae: 10.1581\n",
            "Epoch 316/500\n",
            "77/77 [==============================] - 0s 3ms/step - loss: 434.8536 - mse: 434.8536 - mae: 15.7933 - val_loss: 196.2766 - val_mse: 196.2766 - val_mae: 10.8317\n",
            "Epoch 317/500\n",
            "77/77 [==============================] - 0s 3ms/step - loss: 431.7908 - mse: 431.7908 - mae: 15.5884 - val_loss: 187.0214 - val_mse: 187.0214 - val_mae: 10.4870\n",
            "Epoch 318/500\n",
            "77/77 [==============================] - 0s 4ms/step - loss: 461.1446 - mse: 461.1446 - mae: 16.1021 - val_loss: 148.8036 - val_mse: 148.8036 - val_mae: 9.3738\n",
            "Epoch 319/500\n",
            "77/77 [==============================] - 0s 4ms/step - loss: 429.5594 - mse: 429.5594 - mae: 15.6059 - val_loss: 174.1313 - val_mse: 174.1313 - val_mae: 10.0635\n",
            "Epoch 320/500\n",
            "77/77 [==============================] - 0s 3ms/step - loss: 447.8337 - mse: 447.8337 - mae: 15.9168 - val_loss: 152.1174 - val_mse: 152.1174 - val_mae: 9.4731\n",
            "Epoch 321/500\n",
            "77/77 [==============================] - 0s 3ms/step - loss: 437.8519 - mse: 437.8519 - mae: 15.6273 - val_loss: 153.9839 - val_mse: 153.9839 - val_mae: 9.4852\n",
            "Epoch 322/500\n",
            "77/77 [==============================] - 0s 3ms/step - loss: 454.9354 - mse: 454.9353 - mae: 15.8710 - val_loss: 152.0079 - val_mse: 152.0079 - val_mae: 9.0975\n",
            "Epoch 323/500\n",
            "77/77 [==============================] - 0s 3ms/step - loss: 439.7887 - mse: 439.7887 - mae: 15.7107 - val_loss: 183.8462 - val_mse: 183.8462 - val_mae: 10.4536\n",
            "Epoch 324/500\n",
            "77/77 [==============================] - 0s 3ms/step - loss: 429.4421 - mse: 429.4421 - mae: 15.5645 - val_loss: 153.3766 - val_mse: 153.3766 - val_mae: 9.4853\n",
            "Epoch 325/500\n",
            "77/77 [==============================] - 0s 3ms/step - loss: 445.3024 - mse: 445.3024 - mae: 15.7889 - val_loss: 145.9442 - val_mse: 145.9442 - val_mae: 9.2962\n",
            "Epoch 326/500\n",
            "77/77 [==============================] - 0s 4ms/step - loss: 430.4484 - mse: 430.4484 - mae: 15.5776 - val_loss: 162.2991 - val_mse: 162.2991 - val_mae: 9.6851\n",
            "Epoch 327/500\n",
            "77/77 [==============================] - 0s 3ms/step - loss: 410.9403 - mse: 410.9403 - mae: 15.2480 - val_loss: 154.1989 - val_mse: 154.1989 - val_mae: 9.5088\n",
            "Epoch 328/500\n",
            "77/77 [==============================] - 0s 4ms/step - loss: 467.1580 - mse: 467.1580 - mae: 16.3306 - val_loss: 158.8717 - val_mse: 158.8717 - val_mae: 9.7468\n",
            "Epoch 329/500\n",
            "77/77 [==============================] - 0s 3ms/step - loss: 426.6326 - mse: 426.6326 - mae: 15.6734 - val_loss: 166.3533 - val_mse: 166.3533 - val_mae: 9.7834\n",
            "Epoch 330/500\n",
            "77/77 [==============================] - 0s 4ms/step - loss: 438.8923 - mse: 438.8923 - mae: 15.6405 - val_loss: 152.5348 - val_mse: 152.5348 - val_mae: 9.5070\n",
            "Epoch 331/500\n",
            "77/77 [==============================] - 0s 3ms/step - loss: 416.1515 - mse: 416.1515 - mae: 15.2521 - val_loss: 153.2119 - val_mse: 153.2119 - val_mae: 9.6752\n",
            "Epoch 332/500\n",
            "77/77 [==============================] - 0s 4ms/step - loss: 451.5729 - mse: 451.5729 - mae: 15.8745 - val_loss: 149.1476 - val_mse: 149.1476 - val_mae: 9.2911\n",
            "Epoch 333/500\n",
            "77/77 [==============================] - 0s 4ms/step - loss: 448.2912 - mse: 448.2912 - mae: 15.9139 - val_loss: 177.3646 - val_mse: 177.3646 - val_mae: 10.2941\n",
            "Epoch 334/500\n",
            "77/77 [==============================] - 0s 4ms/step - loss: 423.1375 - mse: 423.1375 - mae: 15.3457 - val_loss: 154.0378 - val_mse: 154.0378 - val_mae: 9.3604\n",
            "Epoch 335/500\n",
            "77/77 [==============================] - 0s 3ms/step - loss: 424.7154 - mse: 424.7154 - mae: 15.5201 - val_loss: 160.3848 - val_mse: 160.3848 - val_mae: 9.6521\n",
            "Epoch 336/500\n",
            "77/77 [==============================] - 0s 4ms/step - loss: 420.7253 - mse: 420.7253 - mae: 15.4580 - val_loss: 176.1073 - val_mse: 176.1073 - val_mae: 10.1853\n",
            "Epoch 337/500\n",
            "77/77 [==============================] - 0s 4ms/step - loss: 444.7453 - mse: 444.7453 - mae: 15.8402 - val_loss: 145.9428 - val_mse: 145.9428 - val_mae: 9.2139\n",
            "Epoch 338/500\n",
            "77/77 [==============================] - 0s 4ms/step - loss: 430.6235 - mse: 430.6235 - mae: 15.6156 - val_loss: 145.5550 - val_mse: 145.5550 - val_mae: 9.3445\n",
            "Epoch 339/500\n",
            "77/77 [==============================] - 0s 3ms/step - loss: 442.3456 - mse: 442.3456 - mae: 15.7299 - val_loss: 145.4585 - val_mse: 145.4585 - val_mae: 9.1389\n",
            "Epoch 340/500\n",
            "77/77 [==============================] - 0s 4ms/step - loss: 446.0677 - mse: 446.0677 - mae: 15.8007 - val_loss: 169.5370 - val_mse: 169.5370 - val_mae: 9.7308\n",
            "Epoch 341/500\n",
            "77/77 [==============================] - 0s 4ms/step - loss: 439.9368 - mse: 439.9368 - mae: 15.8386 - val_loss: 147.8649 - val_mse: 147.8648 - val_mae: 9.2787\n",
            "Epoch 342/500\n",
            "77/77 [==============================] - 0s 4ms/step - loss: 421.7643 - mse: 421.7643 - mae: 15.5480 - val_loss: 163.8128 - val_mse: 163.8128 - val_mae: 9.9373\n",
            "Epoch 343/500\n",
            "77/77 [==============================] - 0s 3ms/step - loss: 424.4326 - mse: 424.4326 - mae: 15.4249 - val_loss: 149.9670 - val_mse: 149.9670 - val_mae: 9.2454\n",
            "Epoch 344/500\n",
            "77/77 [==============================] - 0s 3ms/step - loss: 413.1848 - mse: 413.1848 - mae: 15.3662 - val_loss: 159.0532 - val_mse: 159.0532 - val_mae: 9.5300\n",
            "Epoch 345/500\n",
            "77/77 [==============================] - 0s 4ms/step - loss: 413.7980 - mse: 413.7980 - mae: 15.3952 - val_loss: 169.0956 - val_mse: 169.0956 - val_mae: 10.0172\n",
            "Epoch 346/500\n",
            "77/77 [==============================] - 0s 3ms/step - loss: 422.4473 - mse: 422.4473 - mae: 15.3995 - val_loss: 140.4292 - val_mse: 140.4292 - val_mae: 9.0734\n",
            "Epoch 347/500\n",
            "77/77 [==============================] - 0s 4ms/step - loss: 436.3181 - mse: 436.3181 - mae: 15.6975 - val_loss: 142.2081 - val_mse: 142.2081 - val_mae: 9.2869\n",
            "Epoch 348/500\n",
            "77/77 [==============================] - 0s 3ms/step - loss: 441.0516 - mse: 441.0516 - mae: 15.7527 - val_loss: 187.1993 - val_mse: 187.1993 - val_mae: 10.7014\n",
            "Epoch 349/500\n",
            "77/77 [==============================] - 0s 4ms/step - loss: 421.6132 - mse: 421.6132 - mae: 15.4199 - val_loss: 140.0007 - val_mse: 140.0007 - val_mae: 8.9522\n",
            "Epoch 350/500\n",
            "77/77 [==============================] - 0s 3ms/step - loss: 427.4341 - mse: 427.4341 - mae: 15.3649 - val_loss: 152.0696 - val_mse: 152.0696 - val_mae: 9.4912\n",
            "Epoch 351/500\n",
            "77/77 [==============================] - 0s 4ms/step - loss: 406.4363 - mse: 406.4363 - mae: 15.2279 - val_loss: 159.1911 - val_mse: 159.1911 - val_mae: 9.4311\n",
            "Epoch 352/500\n",
            "77/77 [==============================] - 0s 3ms/step - loss: 433.6841 - mse: 433.6841 - mae: 15.4626 - val_loss: 144.2549 - val_mse: 144.2549 - val_mae: 9.0946\n",
            "Epoch 353/500\n",
            "77/77 [==============================] - 0s 3ms/step - loss: 427.0322 - mse: 427.0322 - mae: 15.4967 - val_loss: 141.7359 - val_mse: 141.7359 - val_mae: 9.1321\n",
            "Epoch 354/500\n",
            "77/77 [==============================] - 0s 3ms/step - loss: 408.1705 - mse: 408.1705 - mae: 15.2743 - val_loss: 152.4724 - val_mse: 152.4724 - val_mae: 9.2725\n",
            "Epoch 355/500\n",
            "77/77 [==============================] - 0s 4ms/step - loss: 421.7182 - mse: 421.7182 - mae: 15.3302 - val_loss: 157.8642 - val_mse: 157.8642 - val_mae: 9.6021\n",
            "Epoch 356/500\n",
            "77/77 [==============================] - 0s 3ms/step - loss: 441.7685 - mse: 441.7685 - mae: 15.7967 - val_loss: 159.6742 - val_mse: 159.6742 - val_mae: 9.4641\n",
            "Epoch 357/500\n",
            "77/77 [==============================] - 0s 3ms/step - loss: 432.6844 - mse: 432.6844 - mae: 15.5366 - val_loss: 146.0070 - val_mse: 146.0070 - val_mae: 9.3584\n",
            "Epoch 358/500\n",
            "77/77 [==============================] - 0s 4ms/step - loss: 416.4778 - mse: 416.4777 - mae: 15.4336 - val_loss: 158.3667 - val_mse: 158.3667 - val_mae: 9.6374\n",
            "Epoch 359/500\n",
            "77/77 [==============================] - 0s 4ms/step - loss: 425.8785 - mse: 425.8785 - mae: 15.5594 - val_loss: 156.8550 - val_mse: 156.8550 - val_mae: 9.7278\n",
            "Epoch 360/500\n",
            "77/77 [==============================] - 0s 4ms/step - loss: 426.1017 - mse: 426.1017 - mae: 15.5467 - val_loss: 146.3124 - val_mse: 146.3124 - val_mae: 9.2132\n",
            "Epoch 361/500\n",
            "77/77 [==============================] - 0s 4ms/step - loss: 425.3196 - mse: 425.3196 - mae: 15.4541 - val_loss: 147.7936 - val_mse: 147.7936 - val_mae: 9.1866\n",
            "Epoch 362/500\n",
            "77/77 [==============================] - 0s 5ms/step - loss: 435.0513 - mse: 435.0513 - mae: 15.5542 - val_loss: 153.2308 - val_mse: 153.2308 - val_mae: 9.3680\n",
            "Epoch 363/500\n",
            "77/77 [==============================] - 0s 5ms/step - loss: 431.8152 - mse: 431.8152 - mae: 15.4908 - val_loss: 159.7224 - val_mse: 159.7224 - val_mae: 9.6723\n",
            "Epoch 364/500\n",
            "77/77 [==============================] - 0s 4ms/step - loss: 416.8358 - mse: 416.8358 - mae: 15.3712 - val_loss: 155.3286 - val_mse: 155.3286 - val_mae: 9.7999\n",
            "Epoch 365/500\n",
            "77/77 [==============================] - 0s 4ms/step - loss: 431.6103 - mse: 431.6103 - mae: 15.4105 - val_loss: 178.7334 - val_mse: 178.7334 - val_mae: 10.5297\n",
            "Epoch 366/500\n",
            "77/77 [==============================] - 0s 5ms/step - loss: 419.5167 - mse: 419.5167 - mae: 15.4287 - val_loss: 135.2965 - val_mse: 135.2965 - val_mae: 8.8051\n",
            "Epoch 367/500\n",
            "77/77 [==============================] - 0s 6ms/step - loss: 412.8312 - mse: 412.8312 - mae: 15.3114 - val_loss: 144.9675 - val_mse: 144.9675 - val_mae: 9.1506\n",
            "Epoch 368/500\n",
            "77/77 [==============================] - 0s 5ms/step - loss: 427.9370 - mse: 427.9370 - mae: 15.4968 - val_loss: 149.1575 - val_mse: 149.1575 - val_mae: 9.3119\n",
            "Epoch 369/500\n",
            "77/77 [==============================] - 0s 4ms/step - loss: 410.8742 - mse: 410.8742 - mae: 15.1678 - val_loss: 151.6392 - val_mse: 151.6392 - val_mae: 9.2777\n",
            "Epoch 370/500\n",
            "77/77 [==============================] - 0s 4ms/step - loss: 400.2521 - mse: 400.2521 - mae: 15.1375 - val_loss: 148.4261 - val_mse: 148.4261 - val_mae: 9.2848\n",
            "Epoch 371/500\n",
            "77/77 [==============================] - 0s 4ms/step - loss: 408.8004 - mse: 408.8004 - mae: 15.1623 - val_loss: 145.0922 - val_mse: 145.0922 - val_mae: 9.3197\n",
            "Epoch 372/500\n",
            "77/77 [==============================] - 0s 4ms/step - loss: 428.9654 - mse: 428.9654 - mae: 15.6063 - val_loss: 147.9588 - val_mse: 147.9588 - val_mae: 9.1765\n",
            "Epoch 373/500\n",
            "77/77 [==============================] - 0s 4ms/step - loss: 418.3544 - mse: 418.3544 - mae: 15.4898 - val_loss: 177.0394 - val_mse: 177.0394 - val_mae: 10.1666\n",
            "Epoch 374/500\n",
            "77/77 [==============================] - 0s 3ms/step - loss: 391.4208 - mse: 391.4208 - mae: 14.9167 - val_loss: 147.7722 - val_mse: 147.7722 - val_mae: 9.4650\n",
            "Epoch 375/500\n",
            "77/77 [==============================] - 0s 4ms/step - loss: 422.0801 - mse: 422.0801 - mae: 15.3153 - val_loss: 149.6204 - val_mse: 149.6204 - val_mae: 9.4685\n",
            "Epoch 376/500\n",
            "77/77 [==============================] - 0s 4ms/step - loss: 424.0410 - mse: 424.0410 - mae: 15.4824 - val_loss: 143.1551 - val_mse: 143.1551 - val_mae: 8.9743\n",
            "Epoch 377/500\n",
            "77/77 [==============================] - 0s 4ms/step - loss: 408.2188 - mse: 408.2188 - mae: 15.1223 - val_loss: 146.4386 - val_mse: 146.4386 - val_mae: 9.3511\n",
            "Epoch 378/500\n",
            "77/77 [==============================] - 0s 3ms/step - loss: 404.7929 - mse: 404.7929 - mae: 15.1037 - val_loss: 156.0570 - val_mse: 156.0570 - val_mae: 9.9021\n",
            "Epoch 379/500\n",
            "77/77 [==============================] - 0s 4ms/step - loss: 427.3974 - mse: 427.3974 - mae: 15.5848 - val_loss: 142.5008 - val_mse: 142.5008 - val_mae: 9.1052\n",
            "Epoch 380/500\n",
            "77/77 [==============================] - 0s 4ms/step - loss: 405.0848 - mse: 405.0848 - mae: 15.2149 - val_loss: 136.0174 - val_mse: 136.0174 - val_mae: 8.8693\n",
            "Epoch 381/500\n",
            "77/77 [==============================] - 0s 4ms/step - loss: 421.1799 - mse: 421.1799 - mae: 15.3873 - val_loss: 140.3965 - val_mse: 140.3965 - val_mae: 8.7645\n",
            "Epoch 382/500\n",
            "77/77 [==============================] - 0s 4ms/step - loss: 409.6459 - mse: 409.6459 - mae: 15.2416 - val_loss: 169.2257 - val_mse: 169.2257 - val_mae: 10.0896\n",
            "Epoch 383/500\n",
            "77/77 [==============================] - 0s 4ms/step - loss: 403.3648 - mse: 403.3648 - mae: 15.0804 - val_loss: 165.9465 - val_mse: 165.9465 - val_mae: 10.0607\n",
            "Epoch 384/500\n",
            "77/77 [==============================] - 0s 4ms/step - loss: 446.3489 - mse: 446.3489 - mae: 15.6837 - val_loss: 162.8669 - val_mse: 162.8669 - val_mae: 9.7467\n",
            "Epoch 385/500\n",
            "77/77 [==============================] - 0s 4ms/step - loss: 422.0945 - mse: 422.0945 - mae: 15.3628 - val_loss: 149.9167 - val_mse: 149.9167 - val_mae: 9.4294\n",
            "Epoch 386/500\n",
            "77/77 [==============================] - 0s 4ms/step - loss: 410.7951 - mse: 410.7950 - mae: 15.2495 - val_loss: 144.5983 - val_mse: 144.5983 - val_mae: 9.0513\n",
            "Epoch 387/500\n",
            "77/77 [==============================] - 0s 4ms/step - loss: 414.8597 - mse: 414.8597 - mae: 15.3183 - val_loss: 148.6532 - val_mse: 148.6532 - val_mae: 9.3281\n",
            "Epoch 388/500\n",
            "77/77 [==============================] - 0s 4ms/step - loss: 426.5779 - mse: 426.5779 - mae: 15.5826 - val_loss: 143.0307 - val_mse: 143.0307 - val_mae: 9.1538\n",
            "Epoch 389/500\n",
            "77/77 [==============================] - 0s 4ms/step - loss: 427.2572 - mse: 427.2572 - mae: 15.5659 - val_loss: 187.3814 - val_mse: 187.3814 - val_mae: 10.4423\n",
            "Epoch 390/500\n",
            "77/77 [==============================] - 0s 3ms/step - loss: 411.1257 - mse: 411.1257 - mae: 15.2975 - val_loss: 169.6402 - val_mse: 169.6402 - val_mae: 10.0386\n",
            "Epoch 391/500\n",
            "77/77 [==============================] - 0s 3ms/step - loss: 403.5760 - mse: 403.5760 - mae: 15.2004 - val_loss: 146.7348 - val_mse: 146.7348 - val_mae: 8.9843\n",
            "Epoch 392/500\n",
            "77/77 [==============================] - 0s 3ms/step - loss: 405.9003 - mse: 405.9003 - mae: 15.2208 - val_loss: 156.8614 - val_mse: 156.8614 - val_mae: 9.7211\n",
            "Epoch 393/500\n",
            "77/77 [==============================] - 0s 3ms/step - loss: 417.6435 - mse: 417.6435 - mae: 15.2517 - val_loss: 141.3436 - val_mse: 141.3436 - val_mae: 8.9108\n",
            "Epoch 394/500\n",
            "77/77 [==============================] - 0s 3ms/step - loss: 421.9768 - mse: 421.9768 - mae: 15.2679 - val_loss: 146.3820 - val_mse: 146.3820 - val_mae: 9.0194\n",
            "Epoch 395/500\n",
            "77/77 [==============================] - 0s 4ms/step - loss: 411.1031 - mse: 411.1031 - mae: 15.3617 - val_loss: 137.8343 - val_mse: 137.8343 - val_mae: 8.7556\n",
            "Epoch 396/500\n",
            "77/77 [==============================] - 0s 3ms/step - loss: 418.8628 - mse: 418.8628 - mae: 15.2797 - val_loss: 164.1106 - val_mse: 164.1106 - val_mae: 9.9189\n",
            "Epoch 397/500\n",
            "77/77 [==============================] - 0s 3ms/step - loss: 428.6894 - mse: 428.6894 - mae: 15.4906 - val_loss: 149.0786 - val_mse: 149.0786 - val_mae: 9.1297\n",
            "Epoch 398/500\n",
            "77/77 [==============================] - 0s 4ms/step - loss: 415.5956 - mse: 415.5956 - mae: 15.3184 - val_loss: 150.4363 - val_mse: 150.4363 - val_mae: 9.5466\n",
            "Epoch 399/500\n",
            "77/77 [==============================] - 0s 3ms/step - loss: 409.2391 - mse: 409.2391 - mae: 15.1781 - val_loss: 151.6060 - val_mse: 151.6060 - val_mae: 9.2505\n",
            "Epoch 400/500\n",
            "77/77 [==============================] - 0s 3ms/step - loss: 430.0264 - mse: 430.0264 - mae: 15.6624 - val_loss: 155.3376 - val_mse: 155.3376 - val_mae: 9.5272\n",
            "Epoch 401/500\n",
            "77/77 [==============================] - 0s 3ms/step - loss: 408.0897 - mse: 408.0897 - mae: 15.2575 - val_loss: 136.9578 - val_mse: 136.9578 - val_mae: 9.0555\n",
            "Epoch 402/500\n",
            "77/77 [==============================] - 0s 4ms/step - loss: 424.2234 - mse: 424.2234 - mae: 15.3536 - val_loss: 138.7902 - val_mse: 138.7902 - val_mae: 8.9400\n",
            "Epoch 403/500\n",
            "77/77 [==============================] - 0s 4ms/step - loss: 407.7558 - mse: 407.7558 - mae: 15.1761 - val_loss: 142.0710 - val_mse: 142.0710 - val_mae: 9.0575\n",
            "Epoch 404/500\n",
            "77/77 [==============================] - 0s 3ms/step - loss: 433.1412 - mse: 433.1412 - mae: 15.4712 - val_loss: 166.8717 - val_mse: 166.8717 - val_mae: 9.8926\n",
            "Epoch 405/500\n",
            "77/77 [==============================] - 0s 4ms/step - loss: 413.4718 - mse: 413.4718 - mae: 15.3508 - val_loss: 147.8532 - val_mse: 147.8532 - val_mae: 9.0894\n",
            "Epoch 406/500\n",
            "77/77 [==============================] - 0s 3ms/step - loss: 401.9447 - mse: 401.9447 - mae: 15.0179 - val_loss: 167.1200 - val_mse: 167.1200 - val_mae: 9.8890\n",
            "Epoch 407/500\n",
            "77/77 [==============================] - 0s 4ms/step - loss: 395.9241 - mse: 395.9241 - mae: 14.9453 - val_loss: 177.7478 - val_mse: 177.7478 - val_mae: 10.5217\n",
            "Epoch 408/500\n",
            "77/77 [==============================] - 0s 3ms/step - loss: 422.8397 - mse: 422.8397 - mae: 15.2948 - val_loss: 168.7731 - val_mse: 168.7731 - val_mae: 9.8432\n",
            "Epoch 409/500\n",
            "77/77 [==============================] - 0s 4ms/step - loss: 410.7597 - mse: 410.7598 - mae: 15.2662 - val_loss: 148.6871 - val_mse: 148.6872 - val_mae: 9.4829\n",
            "Epoch 410/500\n",
            "77/77 [==============================] - 0s 4ms/step - loss: 423.1089 - mse: 423.1089 - mae: 15.3655 - val_loss: 147.1256 - val_mse: 147.1256 - val_mae: 9.1516\n",
            "Epoch 411/500\n",
            "77/77 [==============================] - 0s 4ms/step - loss: 422.6396 - mse: 422.6396 - mae: 15.2811 - val_loss: 158.4047 - val_mse: 158.4047 - val_mae: 9.9707\n",
            "Epoch 412/500\n",
            "77/77 [==============================] - 0s 3ms/step - loss: 413.4715 - mse: 413.4715 - mae: 15.3827 - val_loss: 155.1283 - val_mse: 155.1283 - val_mae: 9.5302\n",
            "Epoch 413/500\n",
            "77/77 [==============================] - 0s 3ms/step - loss: 399.6914 - mse: 399.6914 - mae: 14.9621 - val_loss: 169.9008 - val_mse: 169.9008 - val_mae: 10.2491\n",
            "Epoch 414/500\n",
            "77/77 [==============================] - 0s 4ms/step - loss: 415.2588 - mse: 415.2588 - mae: 15.2503 - val_loss: 152.0349 - val_mse: 152.0349 - val_mae: 9.4403\n",
            "Epoch 415/500\n",
            "77/77 [==============================] - 0s 4ms/step - loss: 401.8538 - mse: 401.8538 - mae: 15.0911 - val_loss: 138.2177 - val_mse: 138.2177 - val_mae: 8.8667\n",
            "Epoch 416/500\n",
            "77/77 [==============================] - 0s 4ms/step - loss: 415.3639 - mse: 415.3639 - mae: 15.2941 - val_loss: 144.8238 - val_mse: 144.8238 - val_mae: 9.3346\n",
            "Epoch 417/500\n",
            "77/77 [==============================] - 0s 4ms/step - loss: 400.4382 - mse: 400.4382 - mae: 15.1123 - val_loss: 148.1962 - val_mse: 148.1962 - val_mae: 9.1068\n",
            "Epoch 418/500\n",
            "77/77 [==============================] - 0s 4ms/step - loss: 387.7295 - mse: 387.7295 - mae: 14.8908 - val_loss: 135.5939 - val_mse: 135.5939 - val_mae: 9.0439\n",
            "Epoch 419/500\n",
            "77/77 [==============================] - 0s 4ms/step - loss: 418.6755 - mse: 418.6755 - mae: 15.2575 - val_loss: 136.7740 - val_mse: 136.7740 - val_mae: 9.1058\n",
            "Epoch 420/500\n",
            "77/77 [==============================] - 0s 4ms/step - loss: 422.2844 - mse: 422.2844 - mae: 15.3687 - val_loss: 135.4424 - val_mse: 135.4424 - val_mae: 8.9241\n",
            "Epoch 421/500\n",
            "77/77 [==============================] - 0s 4ms/step - loss: 386.2148 - mse: 386.2148 - mae: 14.8800 - val_loss: 136.9295 - val_mse: 136.9295 - val_mae: 8.8366\n",
            "Epoch 422/500\n",
            "77/77 [==============================] - 0s 4ms/step - loss: 407.1186 - mse: 407.1186 - mae: 15.2056 - val_loss: 149.8024 - val_mse: 149.8024 - val_mae: 9.4354\n",
            "Epoch 423/500\n",
            "77/77 [==============================] - 0s 4ms/step - loss: 434.2814 - mse: 434.2814 - mae: 15.5064 - val_loss: 162.8465 - val_mse: 162.8465 - val_mae: 9.9193\n",
            "Epoch 424/500\n",
            "77/77 [==============================] - 0s 4ms/step - loss: 411.7060 - mse: 411.7060 - mae: 15.2374 - val_loss: 129.9645 - val_mse: 129.9645 - val_mae: 8.5784\n",
            "Epoch 425/500\n",
            "77/77 [==============================] - 0s 3ms/step - loss: 395.9458 - mse: 395.9458 - mae: 14.9007 - val_loss: 136.2728 - val_mse: 136.2728 - val_mae: 8.9008\n",
            "Epoch 426/500\n",
            "77/77 [==============================] - 0s 4ms/step - loss: 419.3319 - mse: 419.3319 - mae: 15.4497 - val_loss: 157.7169 - val_mse: 157.7169 - val_mae: 9.6810\n",
            "Epoch 427/500\n",
            "77/77 [==============================] - 0s 4ms/step - loss: 399.4650 - mse: 399.4650 - mae: 15.1165 - val_loss: 150.9737 - val_mse: 150.9737 - val_mae: 9.1823\n",
            "Epoch 428/500\n",
            "77/77 [==============================] - 0s 4ms/step - loss: 394.9437 - mse: 394.9437 - mae: 14.9132 - val_loss: 184.0237 - val_mse: 184.0237 - val_mae: 10.5578\n",
            "Epoch 429/500\n",
            "77/77 [==============================] - 0s 3ms/step - loss: 419.5710 - mse: 419.5710 - mae: 15.2779 - val_loss: 144.2082 - val_mse: 144.2082 - val_mae: 8.8817\n",
            "Epoch 430/500\n",
            "77/77 [==============================] - 0s 3ms/step - loss: 402.9027 - mse: 402.9027 - mae: 14.9828 - val_loss: 144.3887 - val_mse: 144.3887 - val_mae: 9.1378\n",
            "Epoch 431/500\n",
            "77/77 [==============================] - 0s 3ms/step - loss: 407.1652 - mse: 407.1652 - mae: 15.1172 - val_loss: 145.6728 - val_mse: 145.6728 - val_mae: 9.2246\n",
            "Epoch 432/500\n",
            "77/77 [==============================] - 0s 4ms/step - loss: 408.4571 - mse: 408.4571 - mae: 15.0977 - val_loss: 136.0999 - val_mse: 136.0999 - val_mae: 8.8569\n",
            "Epoch 433/500\n",
            "77/77 [==============================] - 0s 3ms/step - loss: 430.6647 - mse: 430.6647 - mae: 15.4362 - val_loss: 129.6001 - val_mse: 129.6001 - val_mae: 8.6269\n",
            "Epoch 434/500\n",
            "77/77 [==============================] - 0s 4ms/step - loss: 410.3817 - mse: 410.3817 - mae: 15.2651 - val_loss: 143.7771 - val_mse: 143.7771 - val_mae: 9.0414\n",
            "Epoch 435/500\n",
            "77/77 [==============================] - 0s 3ms/step - loss: 401.7961 - mse: 401.7961 - mae: 15.0762 - val_loss: 146.7051 - val_mse: 146.7051 - val_mae: 9.2220\n",
            "Epoch 436/500\n",
            "77/77 [==============================] - 0s 4ms/step - loss: 415.4025 - mse: 415.4025 - mae: 15.2625 - val_loss: 142.1050 - val_mse: 142.1050 - val_mae: 9.1303\n",
            "Epoch 437/500\n",
            "77/77 [==============================] - 0s 4ms/step - loss: 410.8507 - mse: 410.8507 - mae: 15.2865 - val_loss: 148.3788 - val_mse: 148.3788 - val_mae: 9.2615\n",
            "Epoch 438/500\n",
            "77/77 [==============================] - 0s 4ms/step - loss: 408.0591 - mse: 408.0591 - mae: 15.1752 - val_loss: 159.2245 - val_mse: 159.2245 - val_mae: 9.4401\n",
            "Epoch 439/500\n",
            "77/77 [==============================] - 0s 3ms/step - loss: 408.6949 - mse: 408.6949 - mae: 15.1188 - val_loss: 158.4741 - val_mse: 158.4741 - val_mae: 10.0477\n",
            "Epoch 440/500\n",
            "77/77 [==============================] - 0s 4ms/step - loss: 415.1001 - mse: 415.1001 - mae: 15.1910 - val_loss: 151.3137 - val_mse: 151.3137 - val_mae: 9.5055\n",
            "Epoch 441/500\n",
            "77/77 [==============================] - 0s 4ms/step - loss: 401.9666 - mse: 401.9666 - mae: 14.8616 - val_loss: 158.4751 - val_mse: 158.4751 - val_mae: 10.0572\n",
            "Epoch 442/500\n",
            "77/77 [==============================] - 0s 3ms/step - loss: 416.7109 - mse: 416.7109 - mae: 15.2139 - val_loss: 150.9629 - val_mse: 150.9629 - val_mae: 9.2860\n",
            "Epoch 443/500\n",
            "77/77 [==============================] - 0s 4ms/step - loss: 414.7895 - mse: 414.7895 - mae: 15.3570 - val_loss: 153.3281 - val_mse: 153.3281 - val_mae: 9.6485\n",
            "Epoch 444/500\n",
            "77/77 [==============================] - 0s 4ms/step - loss: 399.3358 - mse: 399.3358 - mae: 14.8217 - val_loss: 132.7890 - val_mse: 132.7890 - val_mae: 8.9140\n",
            "Epoch 445/500\n",
            "77/77 [==============================] - 0s 3ms/step - loss: 397.1386 - mse: 397.1386 - mae: 15.0777 - val_loss: 143.1526 - val_mse: 143.1526 - val_mae: 8.9997\n",
            "Epoch 446/500\n",
            "77/77 [==============================] - 0s 3ms/step - loss: 390.8791 - mse: 390.8791 - mae: 15.0599 - val_loss: 170.4256 - val_mse: 170.4256 - val_mae: 10.3257\n",
            "Epoch 447/500\n",
            "77/77 [==============================] - 0s 4ms/step - loss: 411.9147 - mse: 411.9147 - mae: 15.2504 - val_loss: 144.4637 - val_mse: 144.4637 - val_mae: 9.4560\n",
            "Epoch 448/500\n",
            "77/77 [==============================] - 0s 4ms/step - loss: 383.0559 - mse: 383.0559 - mae: 14.8461 - val_loss: 150.6166 - val_mse: 150.6166 - val_mae: 9.3761\n",
            "Epoch 449/500\n",
            "77/77 [==============================] - 0s 3ms/step - loss: 400.8658 - mse: 400.8658 - mae: 15.1825 - val_loss: 135.5137 - val_mse: 135.5137 - val_mae: 8.9013\n",
            "Epoch 450/500\n",
            "77/77 [==============================] - 0s 4ms/step - loss: 400.0225 - mse: 400.0225 - mae: 14.9238 - val_loss: 135.1153 - val_mse: 135.1153 - val_mae: 8.9906\n",
            "Epoch 451/500\n",
            "77/77 [==============================] - 0s 3ms/step - loss: 393.2298 - mse: 393.2298 - mae: 14.9278 - val_loss: 133.6879 - val_mse: 133.6879 - val_mae: 8.8064\n",
            "Epoch 452/500\n",
            "77/77 [==============================] - 0s 4ms/step - loss: 410.2121 - mse: 410.2121 - mae: 15.1596 - val_loss: 195.2389 - val_mse: 195.2389 - val_mae: 11.0054\n",
            "Epoch 453/500\n",
            "77/77 [==============================] - 0s 3ms/step - loss: 385.7145 - mse: 385.7145 - mae: 14.8465 - val_loss: 135.4472 - val_mse: 135.4472 - val_mae: 8.8185\n",
            "Epoch 454/500\n",
            "77/77 [==============================] - 0s 4ms/step - loss: 404.4140 - mse: 404.4140 - mae: 15.0634 - val_loss: 137.3001 - val_mse: 137.3002 - val_mae: 8.8942\n",
            "Epoch 455/500\n",
            "77/77 [==============================] - 0s 3ms/step - loss: 405.8486 - mse: 405.8486 - mae: 15.2161 - val_loss: 133.7466 - val_mse: 133.7466 - val_mae: 8.7551\n",
            "Epoch 456/500\n",
            "77/77 [==============================] - 0s 3ms/step - loss: 414.8157 - mse: 414.8157 - mae: 15.3115 - val_loss: 148.0883 - val_mse: 148.0883 - val_mae: 9.5948\n",
            "Epoch 457/500\n",
            "77/77 [==============================] - 0s 4ms/step - loss: 397.1127 - mse: 397.1127 - mae: 14.9847 - val_loss: 156.5328 - val_mse: 156.5328 - val_mae: 9.6467\n",
            "Epoch 458/500\n",
            "77/77 [==============================] - 0s 4ms/step - loss: 378.5800 - mse: 378.5800 - mae: 14.6674 - val_loss: 149.3010 - val_mse: 149.3010 - val_mae: 9.3255\n",
            "Epoch 459/500\n",
            "77/77 [==============================] - 0s 3ms/step - loss: 404.0866 - mse: 404.0866 - mae: 15.0763 - val_loss: 140.4092 - val_mse: 140.4092 - val_mae: 9.1861\n",
            "Epoch 460/500\n",
            "77/77 [==============================] - 0s 3ms/step - loss: 395.8853 - mse: 395.8853 - mae: 14.9146 - val_loss: 140.8402 - val_mse: 140.8402 - val_mae: 9.1918\n",
            "Epoch 461/500\n",
            "77/77 [==============================] - 0s 3ms/step - loss: 404.8245 - mse: 404.8245 - mae: 15.0568 - val_loss: 147.5645 - val_mse: 147.5645 - val_mae: 9.5546\n",
            "Epoch 462/500\n",
            "77/77 [==============================] - 0s 3ms/step - loss: 401.9360 - mse: 401.9360 - mae: 14.9369 - val_loss: 143.8293 - val_mse: 143.8293 - val_mae: 9.0920\n",
            "Epoch 463/500\n",
            "77/77 [==============================] - 0s 4ms/step - loss: 404.6408 - mse: 404.6408 - mae: 14.9527 - val_loss: 128.4333 - val_mse: 128.4333 - val_mae: 8.5946\n",
            "Epoch 464/500\n",
            "77/77 [==============================] - 0s 4ms/step - loss: 406.7421 - mse: 406.7421 - mae: 15.0877 - val_loss: 143.0898 - val_mse: 143.0898 - val_mae: 8.9494\n",
            "Epoch 465/500\n",
            "77/77 [==============================] - 0s 4ms/step - loss: 398.6615 - mse: 398.6615 - mae: 15.1192 - val_loss: 141.1640 - val_mse: 141.1640 - val_mae: 9.1545\n",
            "Epoch 466/500\n",
            "77/77 [==============================] - 0s 4ms/step - loss: 394.1383 - mse: 394.1383 - mae: 14.9340 - val_loss: 146.3996 - val_mse: 146.3996 - val_mae: 9.3895\n",
            "Epoch 467/500\n",
            "77/77 [==============================] - 0s 3ms/step - loss: 412.6323 - mse: 412.6323 - mae: 15.2057 - val_loss: 149.3455 - val_mse: 149.3455 - val_mae: 9.5538\n",
            "Epoch 468/500\n",
            "77/77 [==============================] - 0s 3ms/step - loss: 388.8492 - mse: 388.8492 - mae: 14.7887 - val_loss: 142.2197 - val_mse: 142.2197 - val_mae: 9.0132\n",
            "Epoch 469/500\n",
            "77/77 [==============================] - 0s 4ms/step - loss: 384.9011 - mse: 384.9011 - mae: 14.7640 - val_loss: 174.9283 - val_mse: 174.9283 - val_mae: 10.3390\n",
            "Epoch 470/500\n",
            "77/77 [==============================] - 0s 3ms/step - loss: 407.2999 - mse: 407.2999 - mae: 15.1875 - val_loss: 145.7089 - val_mse: 145.7089 - val_mae: 9.2946\n",
            "Epoch 471/500\n",
            "77/77 [==============================] - 0s 4ms/step - loss: 398.1814 - mse: 398.1814 - mae: 14.9571 - val_loss: 139.8641 - val_mse: 139.8641 - val_mae: 9.1143\n",
            "Epoch 472/500\n",
            "77/77 [==============================] - 0s 4ms/step - loss: 387.1568 - mse: 387.1568 - mae: 14.7663 - val_loss: 148.1777 - val_mse: 148.1777 - val_mae: 9.3756\n",
            "Epoch 473/500\n",
            "77/77 [==============================] - 0s 4ms/step - loss: 389.2635 - mse: 389.2635 - mae: 14.7782 - val_loss: 132.5134 - val_mse: 132.5134 - val_mae: 8.6513\n",
            "Epoch 474/500\n",
            "77/77 [==============================] - 0s 3ms/step - loss: 386.8636 - mse: 386.8636 - mae: 14.8718 - val_loss: 147.9124 - val_mse: 147.9124 - val_mae: 9.1223\n",
            "Epoch 475/500\n",
            "77/77 [==============================] - 0s 4ms/step - loss: 394.5735 - mse: 394.5735 - mae: 14.9539 - val_loss: 165.3898 - val_mse: 165.3898 - val_mae: 9.9292\n",
            "Epoch 476/500\n",
            "77/77 [==============================] - 0s 4ms/step - loss: 382.7039 - mse: 382.7039 - mae: 14.6950 - val_loss: 142.4464 - val_mse: 142.4464 - val_mae: 9.2278\n",
            "Epoch 477/500\n",
            "77/77 [==============================] - 0s 3ms/step - loss: 392.7512 - mse: 392.7512 - mae: 14.8005 - val_loss: 132.5331 - val_mse: 132.5332 - val_mae: 8.7374\n",
            "Epoch 478/500\n",
            "77/77 [==============================] - 0s 4ms/step - loss: 398.3342 - mse: 398.3342 - mae: 14.8825 - val_loss: 133.8917 - val_mse: 133.8917 - val_mae: 8.8326\n",
            "Epoch 479/500\n",
            "77/77 [==============================] - 0s 3ms/step - loss: 388.8263 - mse: 388.8263 - mae: 14.8156 - val_loss: 133.6206 - val_mse: 133.6206 - val_mae: 8.7452\n",
            "Epoch 480/500\n",
            "77/77 [==============================] - 0s 3ms/step - loss: 399.7199 - mse: 399.7199 - mae: 14.9448 - val_loss: 146.1166 - val_mse: 146.1166 - val_mae: 9.3436\n",
            "Epoch 481/500\n",
            "77/77 [==============================] - 0s 4ms/step - loss: 403.8633 - mse: 403.8633 - mae: 15.0988 - val_loss: 129.8185 - val_mse: 129.8185 - val_mae: 8.7480\n",
            "Epoch 482/500\n",
            "77/77 [==============================] - 0s 4ms/step - loss: 405.7439 - mse: 405.7439 - mae: 15.1004 - val_loss: 150.1097 - val_mse: 150.1097 - val_mae: 9.5108\n",
            "Epoch 483/500\n",
            "77/77 [==============================] - 0s 4ms/step - loss: 413.1414 - mse: 413.1414 - mae: 15.2793 - val_loss: 138.1651 - val_mse: 138.1651 - val_mae: 8.9929\n",
            "Epoch 484/500\n",
            "77/77 [==============================] - 0s 4ms/step - loss: 374.8669 - mse: 374.8669 - mae: 14.5198 - val_loss: 139.7047 - val_mse: 139.7047 - val_mae: 9.0440\n",
            "Epoch 485/500\n",
            "77/77 [==============================] - 0s 4ms/step - loss: 370.0030 - mse: 370.0031 - mae: 14.4935 - val_loss: 152.4187 - val_mse: 152.4187 - val_mae: 9.5990\n",
            "Epoch 486/500\n",
            "77/77 [==============================] - 0s 4ms/step - loss: 378.7578 - mse: 378.7578 - mae: 14.6749 - val_loss: 135.8898 - val_mse: 135.8898 - val_mae: 8.5880\n",
            "Epoch 487/500\n",
            "77/77 [==============================] - 0s 4ms/step - loss: 362.1662 - mse: 362.1662 - mae: 14.2744 - val_loss: 132.4496 - val_mse: 132.4496 - val_mae: 8.7767\n",
            "Epoch 488/500\n",
            "77/77 [==============================] - 0s 4ms/step - loss: 393.5213 - mse: 393.5213 - mae: 14.9358 - val_loss: 140.0047 - val_mse: 140.0047 - val_mae: 9.1311\n",
            "Epoch 489/500\n",
            "77/77 [==============================] - 0s 4ms/step - loss: 399.0670 - mse: 399.0670 - mae: 15.0403 - val_loss: 139.3840 - val_mse: 139.3840 - val_mae: 9.2196\n",
            "Epoch 490/500\n",
            "77/77 [==============================] - 0s 4ms/step - loss: 385.8907 - mse: 385.8907 - mae: 14.7364 - val_loss: 151.5826 - val_mse: 151.5826 - val_mae: 9.6664\n",
            "Epoch 491/500\n",
            "77/77 [==============================] - 0s 4ms/step - loss: 401.1149 - mse: 401.1149 - mae: 14.9429 - val_loss: 148.0657 - val_mse: 148.0657 - val_mae: 9.5429\n",
            "Epoch 492/500\n",
            "77/77 [==============================] - 0s 3ms/step - loss: 388.7187 - mse: 388.7187 - mae: 14.9033 - val_loss: 142.0763 - val_mse: 142.0763 - val_mae: 9.0635\n",
            "Epoch 493/500\n",
            "77/77 [==============================] - 0s 4ms/step - loss: 402.7757 - mse: 402.7757 - mae: 15.0852 - val_loss: 132.1535 - val_mse: 132.1535 - val_mae: 8.6584\n",
            "Epoch 494/500\n",
            "77/77 [==============================] - 0s 4ms/step - loss: 378.3000 - mse: 378.3000 - mae: 14.7329 - val_loss: 131.4077 - val_mse: 131.4077 - val_mae: 8.6495\n",
            "Epoch 495/500\n",
            "77/77 [==============================] - 0s 4ms/step - loss: 362.4910 - mse: 362.4910 - mae: 14.2337 - val_loss: 140.9307 - val_mse: 140.9307 - val_mae: 9.0929\n",
            "Epoch 496/500\n",
            "77/77 [==============================] - 0s 4ms/step - loss: 382.7207 - mse: 382.7207 - mae: 14.7182 - val_loss: 148.7506 - val_mse: 148.7506 - val_mae: 9.2860\n",
            "Epoch 497/500\n",
            "77/77 [==============================] - 0s 4ms/step - loss: 384.8115 - mse: 384.8115 - mae: 14.8941 - val_loss: 140.5907 - val_mse: 140.5907 - val_mae: 9.1646\n",
            "Epoch 498/500\n",
            "77/77 [==============================] - 0s 4ms/step - loss: 360.8155 - mse: 360.8155 - mae: 14.2317 - val_loss: 140.5231 - val_mse: 140.5231 - val_mae: 8.9480\n",
            "Epoch 499/500\n",
            "77/77 [==============================] - 0s 3ms/step - loss: 376.0344 - mse: 376.0344 - mae: 14.5513 - val_loss: 138.5692 - val_mse: 138.5692 - val_mae: 9.0412\n",
            "Epoch 500/500\n",
            "77/77 [==============================] - 0s 4ms/step - loss: 411.2378 - mse: 411.2378 - mae: 15.2085 - val_loss: 147.7262 - val_mse: 147.7262 - val_mae: 9.6020\n"
          ]
        }
      ]
    },
    {
      "cell_type": "code",
      "source": [
        "### Plot training curves\n",
        "\n",
        "print(model.summary())\n",
        "\n",
        "# Extract accuracy and loss values (in list form) from the history\n",
        "mse = history.history['mse']\n",
        "val_mse = history.history['val_mse']\n",
        "mae = history.history['mae']\n",
        "val_mae = history.history['val_mae']\n",
        "\n",
        "# Create a list of epoch numbers\n",
        "epochs = range(1, len(mse) + 1)\n",
        "\n",
        "# Plot training and validation MSE values over time\n",
        "plt.figure(figsize=(5, 2))\n",
        "plt.plot(epochs, mse, color='blue', marker='.', label='Training MSE')\n",
        "plt.plot(epochs, val_mse, color='orange', marker='.', label='Validation MSE')\n",
        "plt.title('Training and validation MSE')\n",
        "plt.legend()\n",
        "\n",
        "# Plot training and validation MAE over time\n",
        "plt.figure(figsize=(5, 2))\n",
        "plt.plot(epochs, mae, color='blue', marker='.', label='Training MAE')\n",
        "plt.plot(epochs, val_mae, color='orange', marker='.', label='Validation MSE')\n",
        "plt.title('Training and validation MAE')\n",
        "plt.legend()\n",
        "plt.show()"
      ],
      "metadata": {
        "colab": {
          "base_uri": "https://localhost:8080/",
          "height": 692
        },
        "id": "myhXWwv85JhD",
        "outputId": "4cc56c10-211f-47fc-d846-d1039811cc21"
      },
      "execution_count": null,
      "outputs": [
        {
          "output_type": "stream",
          "name": "stdout",
          "text": [
            "Model: \"sequential_16\"\n",
            "_________________________________________________________________\n",
            " Layer (type)                Output Shape              Param #   \n",
            "=================================================================\n",
            " dense_31 (Dense)            (None, 40)                7240      \n",
            "                                                                 \n",
            " dropout_27 (Dropout)        (None, 40)                0         \n",
            "                                                                 \n",
            " dense_32 (Dense)            (None, 20)                820       \n",
            "                                                                 \n",
            " dropout_28 (Dropout)        (None, 20)                0         \n",
            "                                                                 \n",
            " dense_33 (Dense)            (None, 1)                 21        \n",
            "                                                                 \n",
            "=================================================================\n",
            "Total params: 8,081\n",
            "Trainable params: 8,081\n",
            "Non-trainable params: 0\n",
            "_________________________________________________________________\n",
            "None\n"
          ]
        },
        {
          "output_type": "display_data",
          "data": {
            "text/plain": [
              "<Figure size 360x144 with 1 Axes>"
            ],
            "image/png": "[encoded data removed]"
          },
          "metadata": {
            "needs_background": "light"
          }
        },
        {
          "output_type": "display_data",
          "data": {
            "text/plain": [
              "<Figure size 360x144 with 1 Axes>"
            ],
            "image/png": "[encoded data removed]"
          },
          "metadata": {
            "needs_background": "light"
          }
        }
      ]
    },
    {
      "cell_type": "code",
      "source": [
        "### Test on the test set\n",
        "\n",
        "# Reshape test set to mimic Edge Impulse\n",
        "X_test_reshape = np.reshape(X_test_std, (X_test_std.shape[0], X_test_std.shape[1] * X_test_std.shape[2]))\n",
        "\n",
        "# Make predictions\n",
        "y_pred = model.predict(X_test_reshape).flatten()\n",
        "\n",
        "# See how close we were\n",
        "print(\"Predicted vs. True\")\n",
        "for i in range(100):\n",
        "  print(round(y_pred[i], 3), \"vs.\", round(y_test[i], 3))"
      ],
      "metadata": {
        "colab": {
          "base_uri": "https://localhost:8080/"
        },
        "id": "A-QtJ8wS5kHE",
        "outputId": "82c6ceb2-3014-4bd5-b939-0cea49be8cb7"
      },
      "execution_count": null,
      "outputs": [
        {
          "output_type": "stream",
          "name": "stdout",
          "text": [
            "38/38 [==============================] - 0s 3ms/step\n",
            "Predicted vs. True\n",
            "-12.102 vs. -8.0\n",
            "78.679 vs. 77.0\n",
            "56.357 vs. 53.0\n",
            "-5.875 vs. -11.5\n",
            "167.985 vs. 168.516\n",
            "90.313 vs. 92.0\n",
            "86.026 vs. 94.5\n",
            "16.101 vs. 15.0\n",
            "110.75 vs. 104.5\n",
            "53.65 vs. 53.5\n",
            "154.404 vs. 159.0\n",
            "-14.187 vs. -37.5\n",
            "121.793 vs. 129.0\n",
            "30.677 vs. 27.549\n",
            "167.485 vs. 176.0\n",
            "105.24 vs. 123.515\n",
            "20.825 vs. 20.0\n",
            "45.244 vs. 28.5\n",
            "69.062 vs. 68.0\n",
            "108.198 vs. 113.0\n",
            "53.808 vs. 64.024\n",
            "109.514 vs. 126.0\n",
            "34.274 vs. 26.0\n",
            "102.771 vs. 110.0\n",
            "4.943 vs. 10.0\n",
            "-20.902 vs. -35.5\n",
            "1.011 vs. -9.5\n",
            "32.383 vs. 21.0\n",
            "-23.419 vs. -30.0\n",
            "-8.737 vs. -9.5\n",
            "87.808 vs. 82.5\n",
            "-6.916 vs. -15.0\n",
            "9.018 vs. 16.5\n",
            "41.388 vs. 47.08\n",
            "79.125 vs. 70.549\n",
            "143.631 vs. 170.515\n",
            "9.4 vs. 8.0\n",
            "99.324 vs. 89.5\n",
            "54.325 vs. 51.5\n",
            "88.538 vs. 87.0\n",
            "107.148 vs. 126.5\n",
            "74.841 vs. 84.0\n",
            "66.485 vs. 63.093\n",
            "-13.923 vs. -22.5\n",
            "30.279 vs. 40.0\n",
            "34.218 vs. 41.0\n",
            "145.824 vs. 168.5\n",
            "44.104 vs. 32.06\n",
            "74.361 vs. 74.0\n",
            "139.088 vs. 149.06\n",
            "52.869 vs. 62.0\n",
            "131.323 vs. 131.5\n",
            "19.435 vs. 12.5\n",
            "46.708 vs. 46.0\n",
            "-26.951 vs. -34.5\n",
            "137.781 vs. 152.0\n",
            "27.278 vs. 25.549\n",
            "20.294 vs. 28.0\n",
            "103.384 vs. 114.5\n",
            "87.396 vs. 74.5\n",
            "69.863 vs. 69.0\n",
            "136.452 vs. 139.0\n",
            "86.551 vs. 85.549\n",
            "-21.123 vs. -19.0\n",
            "-5.231 vs. -9.0\n",
            "96.96 vs. 105.0\n",
            "119.449 vs. 151.5\n",
            "79.019 vs. 66.5\n",
            "82.279 vs. 78.024\n",
            "158.222 vs. 149.0\n",
            "20.446 vs. 32.0\n",
            "131.434 vs. 138.0\n",
            "36.878 vs. 38.0\n",
            "88.423 vs. 89.549\n",
            "35.48 vs. 36.024\n",
            "54.03 vs. 60.0\n",
            "98.051 vs. 112.5\n",
            "84.606 vs. 99.093\n",
            "-0.388 vs. -3.0\n",
            "78.521 vs. 73.0\n",
            "-7.572 vs. 5.0\n",
            "143.131 vs. 160.5\n",
            "37.103 vs. 44.0\n",
            "7.611 vs. 15.0\n",
            "20.247 vs. 24.515\n",
            "84.66 vs. 83.515\n",
            "111.295 vs. 123.0\n",
            "38.015 vs. 30.06\n",
            "71.198 vs. 78.093\n",
            "96.297 vs. 98.5\n",
            "-22.389 vs. -38.0\n",
            "13.69 vs. 20.0\n",
            "53.524 vs. 69.5\n",
            "77.805 vs. 70.5\n",
            "105.167 vs. 107.5\n",
            "36.658 vs. 40.5\n",
            "63.906 vs. 70.0\n",
            "151.928 vs. 169.549\n",
            "81.833 vs. 72.06\n",
            "8.301 vs. -3.0\n"
          ]
        }
      ]
    },
    {
      "cell_type": "code",
      "source": [
        "# Get MSE of test set\n",
        "tf.keras.losses.mean_squared_error(y_test, y_pred)"
      ],
      "metadata": {
        "colab": {
          "base_uri": "https://localhost:8080/"
        },
        "id": "T5yYrL_T85AZ",
        "outputId": "a0a7d23d-d47d-4360-fa65-90e6be4094f5"
      },
      "execution_count": null,
      "outputs": [
        {
          "output_type": "execute_result",
          "data": {
            "text/plain": [
              "<tf.Tensor: shape=(), dtype=float32, numpy=145.40926>"
            ]
          },
          "metadata": {},
          "execution_count": 131
        }
      ]
    },
    {
      "cell_type": "code",
      "source": [
        "# Are we actually seeing some values less than 0?\n",
        "np.sum(y_pred < 0)"
      ],
      "metadata": {
        "colab": {
          "base_uri": "https://localhost:8080/"
        },
        "id": "ElOaQeTX9MKT",
        "outputId": "f9f12082-d4f7-4966-ddac-6d200ef8049e"
      },
      "execution_count": null,
      "outputs": [
        {
          "output_type": "execute_result",
          "data": {
            "text/plain": [
              "176"
            ]
          },
          "metadata": {},
          "execution_count": 132
        }
      ]
    },
    {
      "cell_type": "markdown",
      "source": [
        "## Step 7: Test on a full sequence"
      ],
      "metadata": {
        "id": "ppt7CwxEhevp"
      }
    },
    {
      "cell_type": "code",
      "source": [
        "### Create test batch from a single sequence\n",
        "\n",
        "test_idx = 15\n",
        "\n",
        "# Columns to drop\n",
        "cols_to_delete = [TIMESTAMP_IDX, PRESSURE_IDX, STATE_IDX] \n",
        "\n",
        "# Create sliding window gas data (without timestamp and state) to X and \"time until burn\" to y\n",
        "win_idx = 0\n",
        "X_test_seq = []\n",
        "y_test_seq = []\n",
        "while win_idx < len(raw_data[test_idx]):\n",
        "\n",
        "  # Check to make sure we're not exceeding the sequence\n",
        "  if win_idx + X_WINDOW_LEN > len(raw_data[test_idx]):\n",
        "    break\n",
        "\n",
        "  # Generate window, remove unwanted columns\n",
        "  window = raw_data[test_idx][win_idx:(win_idx + X_WINDOW_LEN), :]\n",
        "  window = np.delete(window, cols_to_delete, axis=1)\n",
        "\n",
        "  # Perform standardization and save to our test set\n",
        "  window = (window - means) / std_devs\n",
        "  X_test_seq.append(window)\n",
        "  \n",
        "  # Copy time until burned (at the end of the window) as our ground truth values\n",
        "  y_test_seq.append(burn_timestamp - raw_data[test_idx][(win_idx + X_WINDOW_LEN - 1), 0])\n",
        "\n",
        "  # Mover window up by our stride\n",
        "  win_idx += X_WINDOW_STRIDE\n",
        "\n",
        "# Turn into Numpy arrays\n",
        "X_test_seq = np.array(X_test_seq)\n",
        "y_test_seq = np.array(y_test_seq) / Y_SCALE\n",
        "\n",
        "# View shapes\n",
        "print(X_test_seq.shape)\n",
        "print(y_test_seq.shape)\n",
        "\n",
        "# Predict time until burnt for test sequence\n",
        "X_test_reshape = np.reshape(X_test_seq, (X_test_seq.shape[0], X_test_seq.shape[1] * X_test_seq.shape[2]))\n",
        "y_pred = model.predict(X_test_reshape).flatten()\n",
        "\n",
        "# Plot actual and predicted times\n",
        "plt.plot(y_pred, color='orange')\n",
        "plt.plot(y_test_seq, color='blue')"
      ],
      "metadata": {
        "id": "ZIAYrevTP0qP",
        "colab": {
          "base_uri": "https://localhost:8080/",
          "height": 338
        },
        "outputId": "2c14bb54-4c36-4a93-b420-90dbae46e522"
      },
      "execution_count": null,
      "outputs": [
        {
          "output_type": "stream",
          "name": "stdout",
          "text": [
            "(211, 20, 9)\n",
            "(211,)\n",
            "7/7 [==============================] - 0s 7ms/step\n"
          ]
        },
        {
          "output_type": "execute_result",
          "data": {
            "text/plain": [
              "[<matplotlib.lines.Line2D at 0x7f24fa931950>]"
            ]
          },
          "metadata": {},
          "execution_count": 135
        },
        {
          "output_type": "display_data",
          "data": {
            "text/plain": [
              "<Figure size 432x288 with 1 Axes>"
            ],
            "image/png": "[encoded data removed]"
          },
          "metadata": {
            "needs_background": "light"
          }
        }
      ]
    },
    {
      "cell_type": "code",
      "source": [
        "### Read new sequence from CSV\n",
        "\n",
        "test_csv = \"/content/freezer.1660169618429.csv\"\n",
        "\n",
        "# Store header, raw data, and number of lines found in each .csv file\n",
        "header = None\n",
        "\n",
        "sample_data = []\n",
        "\n",
        "# Read the .csv file\n",
        "with open(test_csv) as f:\n",
        "  csv_reader = csv.reader(f, delimiter=',')\n",
        "\n",
        "  # Read each line\n",
        "  valid_line_counter = 0\n",
        "  for line_count, line in enumerate(csv_reader):\n",
        "\n",
        "    # Check header\n",
        "    if line_count == 0:\n",
        "\n",
        "      # Record first header as our official header for all the data\n",
        "      if header == None:\n",
        "        header = line\n",
        "\n",
        "      # Check to make sure subsequent headers match the original header\n",
        "      if header == line:\n",
        "        filenames.append(filename)\n",
        "      else:\n",
        "        print(\"Error: Headers do not match. Skipping\", filename)\n",
        "        break\n",
        "\n",
        "    # Construct raw data array, make sure number of elements match number of header labels\n",
        "    else:\n",
        "      if len(line) == len(header):\n",
        "        sample_data.append(line)\n",
        "      else:\n",
        "        print(\"Error: Data length does not match header length. Skipping line.\")\n",
        "        continue\n",
        "\n",
        "# Turn into sequence\n",
        "raw_seq = np.array(sample_data).astype('float')\n",
        "\n",
        "# Print shape\n",
        "print(raw_seq.shape)"
      ],
      "metadata": {
        "colab": {
          "base_uri": "https://localhost:8080/"
        },
        "id": "qLEBhzT4lbHk",
        "outputId": "97c362a9-799f-49cb-c5e2-41996ac2a1fd"
      },
      "execution_count": null,
      "outputs": [
        {
          "output_type": "stream",
          "name": "stdout",
          "text": [
            "(425, 12)\n"
          ]
        }
      ]
    },
    {
      "cell_type": "code",
      "source": [
        "### Do prediction on new sequence\n",
        "\n",
        "# Create sliding window gas data (without timestamp and state) to X and \"time until burn\" to y\n",
        "win_idx = 0\n",
        "X_test_seq = []\n",
        "y_test_seq = []\n",
        "while win_idx < len(raw_seq):\n",
        "\n",
        "  # Check to make sure we're not exceeding the sequence\n",
        "  if win_idx + X_WINDOW_LEN > len(raw_seq):\n",
        "    break\n",
        "\n",
        "  # Generate window, remove unwanted columns\n",
        "  window = raw_seq[win_idx:(win_idx + X_WINDOW_LEN), :]\n",
        "  window = np.delete(window, cols_to_delete, axis=1)\n",
        "\n",
        "  # Perform standardization and save to our test set\n",
        "  window = (window - means) / std_devs\n",
        "  X_test_seq.append(window)\n",
        "  \n",
        "  # Copy time until burned (at the end of the window) as our ground truth values\n",
        "  y_test_seq.append(burn_timestamp - raw_seq[(win_idx + X_WINDOW_LEN - 1), 0])\n",
        "\n",
        "  # Mover window up by our stride\n",
        "  win_idx += X_WINDOW_STRIDE\n",
        "\n",
        "# Turn into Numpy arrays\n",
        "X_test_seq = np.array(X_test_seq)\n",
        "y_test_seq = np.array(y_test_seq) / Y_SCALE\n",
        "\n",
        "# View shapes\n",
        "print(X_test_seq.shape)\n",
        "print(y_test_seq.shape)\n",
        "\n",
        "# Predict time until burnt for test sequence\n",
        "X_test_reshape = np.reshape(X_test_seq, (X_test_seq.shape[0], X_test_seq.shape[1] * X_test_seq.shape[2]))\n",
        "y_pred = model.predict(X_test_reshape).flatten()\n",
        "\n",
        "# Plot actual and predicted times\n",
        "plt.plot(y_pred, color='orange')\n",
        "plt.plot(y_test_seq, color='blue')"
      ],
      "metadata": {
        "colab": {
          "base_uri": "https://localhost:8080/",
          "height": 338
        },
        "id": "_709jl1sm3LB",
        "outputId": "cf05b33a-174b-400b-8016-c2020a48ba09"
      },
      "execution_count": null,
      "outputs": [
        {
          "output_type": "stream",
          "name": "stdout",
          "text": [
            "(203, 20, 9)\n",
            "(203,)\n",
            "7/7 [==============================] - 0s 3ms/step\n"
          ]
        },
        {
          "output_type": "execute_result",
          "data": {
            "text/plain": [
              "[<matplotlib.lines.Line2D at 0x7f24fe045a50>]"
            ]
          },
          "metadata": {},
          "execution_count": 138
        },
        {
          "output_type": "display_data",
          "data": {
            "text/plain": [
              "<Figure size 432x288 with 1 Axes>"
            ],
            "image/png": "[encoded data removed]"
          },
          "metadata": {
            "needs_background": "light"
          }
        }
      ]
    }
  ]
}